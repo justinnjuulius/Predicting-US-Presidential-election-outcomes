{
 "cells": [
  {
   "cell_type": "code",
   "execution_count": 87,
   "metadata": {
    "scrolled": false
   },
   "outputs": [
    {
     "data": {
      "text/html": [
       "<div>\n",
       "<style scoped>\n",
       "    .dataframe tbody tr th:only-of-type {\n",
       "        vertical-align: middle;\n",
       "    }\n",
       "\n",
       "    .dataframe tbody tr th {\n",
       "        vertical-align: top;\n",
       "    }\n",
       "\n",
       "    .dataframe thead th {\n",
       "        text-align: right;\n",
       "    }\n",
       "</style>\n",
       "<table border=\"1\" class=\"dataframe\">\n",
       "  <thead>\n",
       "    <tr style=\"text-align: right;\">\n",
       "      <th></th>\n",
       "      <th>Unnamed: 0</th>\n",
       "      <th>CountyOutcome</th>\n",
       "      <th>White (Not Latino) Population</th>\n",
       "      <th>African American Population</th>\n",
       "      <th>Native American Population</th>\n",
       "      <th>Asian American Population</th>\n",
       "      <th>Other Race or Races</th>\n",
       "      <th>Latino Population</th>\n",
       "      <th>Gini.Coefficient</th>\n",
       "      <th>Management.professional.and.related.occupations</th>\n",
       "      <th>...</th>\n",
       "      <th>Teen.births</th>\n",
       "      <th>Children.in.single.parent.households</th>\n",
       "      <th>Adult.smoking</th>\n",
       "      <th>Adult.obesity</th>\n",
       "      <th>Diabetes</th>\n",
       "      <th>Sexually.transmitted.infections</th>\n",
       "      <th>Uninsured</th>\n",
       "      <th>Violent.crime</th>\n",
       "      <th>tSentiment</th>\n",
       "      <th>cSentiment</th>\n",
       "    </tr>\n",
       "  </thead>\n",
       "  <tbody>\n",
       "    <tr>\n",
       "      <th>0</th>\n",
       "      <td>0</td>\n",
       "      <td>1</td>\n",
       "      <td>0.831954</td>\n",
       "      <td>0.004646</td>\n",
       "      <td>0.083650</td>\n",
       "      <td>0.005855</td>\n",
       "      <td>0.108392</td>\n",
       "      <td>0.026248</td>\n",
       "      <td>0.463470</td>\n",
       "      <td>0.552174</td>\n",
       "      <td>...</td>\n",
       "      <td>0.319198</td>\n",
       "      <td>0.249047</td>\n",
       "      <td>0.229167</td>\n",
       "      <td>0.474138</td>\n",
       "      <td>0.310559</td>\n",
       "      <td>0.058300</td>\n",
       "      <td>0.585082</td>\n",
       "      <td>0.271977</td>\n",
       "      <td>-0.059051</td>\n",
       "      <td>-0.07589</td>\n",
       "    </tr>\n",
       "    <tr>\n",
       "      <th>1</th>\n",
       "      <td>1</td>\n",
       "      <td>1</td>\n",
       "      <td>0.398656</td>\n",
       "      <td>0.001742</td>\n",
       "      <td>0.425312</td>\n",
       "      <td>0.067916</td>\n",
       "      <td>0.256119</td>\n",
       "      <td>0.022131</td>\n",
       "      <td>0.388128</td>\n",
       "      <td>0.473913</td>\n",
       "      <td>...</td>\n",
       "      <td>0.319198</td>\n",
       "      <td>0.426938</td>\n",
       "      <td>0.378701</td>\n",
       "      <td>0.531609</td>\n",
       "      <td>0.329193</td>\n",
       "      <td>0.116776</td>\n",
       "      <td>0.645688</td>\n",
       "      <td>0.129210</td>\n",
       "      <td>-0.059051</td>\n",
       "      <td>-0.07589</td>\n",
       "    </tr>\n",
       "    <tr>\n",
       "      <th>2</th>\n",
       "      <td>2</td>\n",
       "      <td>1</td>\n",
       "      <td>0.095657</td>\n",
       "      <td>0.095819</td>\n",
       "      <td>0.243889</td>\n",
       "      <td>0.970726</td>\n",
       "      <td>0.090909</td>\n",
       "      <td>0.112198</td>\n",
       "      <td>0.438356</td>\n",
       "      <td>0.000000</td>\n",
       "      <td>...</td>\n",
       "      <td>0.463975</td>\n",
       "      <td>0.500635</td>\n",
       "      <td>0.731250</td>\n",
       "      <td>0.551724</td>\n",
       "      <td>0.273292</td>\n",
       "      <td>0.090651</td>\n",
       "      <td>1.000000</td>\n",
       "      <td>0.129210</td>\n",
       "      <td>-0.059051</td>\n",
       "      <td>-0.07589</td>\n",
       "    </tr>\n",
       "    <tr>\n",
       "      <th>3</th>\n",
       "      <td>3</td>\n",
       "      <td>1</td>\n",
       "      <td>0.634436</td>\n",
       "      <td>0.009292</td>\n",
       "      <td>0.210212</td>\n",
       "      <td>0.083138</td>\n",
       "      <td>0.131119</td>\n",
       "      <td>0.050437</td>\n",
       "      <td>0.408676</td>\n",
       "      <td>0.498261</td>\n",
       "      <td>...</td>\n",
       "      <td>0.182898</td>\n",
       "      <td>0.402795</td>\n",
       "      <td>0.379167</td>\n",
       "      <td>0.433908</td>\n",
       "      <td>0.260870</td>\n",
       "      <td>0.130144</td>\n",
       "      <td>0.517483</td>\n",
       "      <td>0.125592</td>\n",
       "      <td>-0.059051</td>\n",
       "      <td>-0.07589</td>\n",
       "    </tr>\n",
       "    <tr>\n",
       "      <th>4</th>\n",
       "      <td>4</td>\n",
       "      <td>1</td>\n",
       "      <td>0.701655</td>\n",
       "      <td>0.002323</td>\n",
       "      <td>0.158066</td>\n",
       "      <td>0.069087</td>\n",
       "      <td>0.177448</td>\n",
       "      <td>0.018013</td>\n",
       "      <td>0.349315</td>\n",
       "      <td>0.490435</td>\n",
       "      <td>...</td>\n",
       "      <td>0.319198</td>\n",
       "      <td>0.401399</td>\n",
       "      <td>0.378701</td>\n",
       "      <td>0.501554</td>\n",
       "      <td>0.460293</td>\n",
       "      <td>0.116776</td>\n",
       "      <td>0.347015</td>\n",
       "      <td>0.129210</td>\n",
       "      <td>-0.059051</td>\n",
       "      <td>-0.07589</td>\n",
       "    </tr>\n",
       "  </tbody>\n",
       "</table>\n",
       "<p>5 rows × 24 columns</p>\n",
       "</div>"
      ],
      "text/plain": [
       "   Unnamed: 0  CountyOutcome  White (Not Latino) Population  \\\n",
       "0           0              1                       0.831954   \n",
       "1           1              1                       0.398656   \n",
       "2           2              1                       0.095657   \n",
       "3           3              1                       0.634436   \n",
       "4           4              1                       0.701655   \n",
       "\n",
       "   African American Population  Native American Population  \\\n",
       "0                     0.004646                    0.083650   \n",
       "1                     0.001742                    0.425312   \n",
       "2                     0.095819                    0.243889   \n",
       "3                     0.009292                    0.210212   \n",
       "4                     0.002323                    0.158066   \n",
       "\n",
       "   Asian American Population  Other Race or Races  Latino Population  \\\n",
       "0                   0.005855             0.108392           0.026248   \n",
       "1                   0.067916             0.256119           0.022131   \n",
       "2                   0.970726             0.090909           0.112198   \n",
       "3                   0.083138             0.131119           0.050437   \n",
       "4                   0.069087             0.177448           0.018013   \n",
       "\n",
       "   Gini.Coefficient  Management.professional.and.related.occupations  ...  \\\n",
       "0          0.463470                                         0.552174  ...   \n",
       "1          0.388128                                         0.473913  ...   \n",
       "2          0.438356                                         0.000000  ...   \n",
       "3          0.408676                                         0.498261  ...   \n",
       "4          0.349315                                         0.490435  ...   \n",
       "\n",
       "   Teen.births  Children.in.single.parent.households  Adult.smoking  \\\n",
       "0     0.319198                              0.249047       0.229167   \n",
       "1     0.319198                              0.426938       0.378701   \n",
       "2     0.463975                              0.500635       0.731250   \n",
       "3     0.182898                              0.402795       0.379167   \n",
       "4     0.319198                              0.401399       0.378701   \n",
       "\n",
       "   Adult.obesity  Diabetes  Sexually.transmitted.infections  Uninsured  \\\n",
       "0       0.474138  0.310559                         0.058300   0.585082   \n",
       "1       0.531609  0.329193                         0.116776   0.645688   \n",
       "2       0.551724  0.273292                         0.090651   1.000000   \n",
       "3       0.433908  0.260870                         0.130144   0.517483   \n",
       "4       0.501554  0.460293                         0.116776   0.347015   \n",
       "\n",
       "   Violent.crime  tSentiment  cSentiment  \n",
       "0       0.271977   -0.059051    -0.07589  \n",
       "1       0.129210   -0.059051    -0.07589  \n",
       "2       0.129210   -0.059051    -0.07589  \n",
       "3       0.125592   -0.059051    -0.07589  \n",
       "4       0.129210   -0.059051    -0.07589  \n",
       "\n",
       "[5 rows x 24 columns]"
      ]
     },
     "execution_count": 87,
     "metadata": {},
     "output_type": "execute_result"
    }
   ],
   "source": [
    "import pandas as pd\n",
    "\n",
    "df = pd.read_csv('tweetsFeatures.csv',sep=',')\n",
    "df.head()"
   ]
  },
  {
   "cell_type": "code",
   "execution_count": 88,
   "metadata": {},
   "outputs": [],
   "source": [
    "#Use random forest to find accuracy according to these features\n",
    "from sklearn.model_selection import train_test_split\n",
    "from sklearn.ensemble import RandomForestClassifier\n",
    "from sklearn.metrics import f1_score,confusion_matrix\n",
    "from sklearn.metrics import accuracy_score\n",
    "from sklearn.metrics import roc_auc_score\n",
    "from sklearn.metrics import plot_roc_curve\n",
    "import seaborn as sns # data visualization library \n",
    "import matplotlib.pyplot as plt\n",
    "import numpy as np # linear algebra\n",
    "from pprint import pprint\n",
    "from sklearn.metrics import classification_report"
   ]
  },
  {
   "cell_type": "code",
   "execution_count": 89,
   "metadata": {},
   "outputs": [],
   "source": [
    "from imblearn.over_sampling import RandomOverSampler\n",
    "from imblearn.under_sampling import RandomUnderSampler\n",
    "from imblearn.over_sampling import SMOTE\n",
    "from collections import Counter"
   ]
  },
  {
   "cell_type": "markdown",
   "metadata": {},
   "source": [
    "## Baseline Model only Demog"
   ]
  },
  {
   "cell_type": "code",
   "execution_count": 90,
   "metadata": {},
   "outputs": [
    {
     "data": {
      "text/html": [
       "<div>\n",
       "<style scoped>\n",
       "    .dataframe tbody tr th:only-of-type {\n",
       "        vertical-align: middle;\n",
       "    }\n",
       "\n",
       "    .dataframe tbody tr th {\n",
       "        vertical-align: top;\n",
       "    }\n",
       "\n",
       "    .dataframe thead th {\n",
       "        text-align: right;\n",
       "    }\n",
       "</style>\n",
       "<table border=\"1\" class=\"dataframe\">\n",
       "  <thead>\n",
       "    <tr style=\"text-align: right;\">\n",
       "      <th></th>\n",
       "      <th>White (Not Latino) Population</th>\n",
       "      <th>African American Population</th>\n",
       "      <th>Native American Population</th>\n",
       "      <th>Asian American Population</th>\n",
       "      <th>Other Race or Races</th>\n",
       "      <th>Latino Population</th>\n",
       "      <th>Gini.Coefficient</th>\n",
       "      <th>Management.professional.and.related.occupations</th>\n",
       "      <th>Production.transportation.and.material.moving.occupations</th>\n",
       "      <th>Poor.physical.health.days</th>\n",
       "      <th>Poor.mental.health.days</th>\n",
       "      <th>Low.birthweight</th>\n",
       "      <th>Teen.births</th>\n",
       "      <th>Children.in.single.parent.households</th>\n",
       "      <th>Adult.smoking</th>\n",
       "      <th>Adult.obesity</th>\n",
       "      <th>Diabetes</th>\n",
       "      <th>Sexually.transmitted.infections</th>\n",
       "      <th>Uninsured</th>\n",
       "      <th>Violent.crime</th>\n",
       "    </tr>\n",
       "  </thead>\n",
       "  <tbody>\n",
       "    <tr>\n",
       "      <th>0</th>\n",
       "      <td>0.831954</td>\n",
       "      <td>0.004646</td>\n",
       "      <td>0.083650</td>\n",
       "      <td>0.005855</td>\n",
       "      <td>0.108392</td>\n",
       "      <td>0.026248</td>\n",
       "      <td>0.463470</td>\n",
       "      <td>0.552174</td>\n",
       "      <td>0.114286</td>\n",
       "      <td>0.224719</td>\n",
       "      <td>0.109890</td>\n",
       "      <td>0.356684</td>\n",
       "      <td>0.319198</td>\n",
       "      <td>0.249047</td>\n",
       "      <td>0.229167</td>\n",
       "      <td>0.474138</td>\n",
       "      <td>0.310559</td>\n",
       "      <td>0.058300</td>\n",
       "      <td>0.585082</td>\n",
       "      <td>0.271977</td>\n",
       "    </tr>\n",
       "    <tr>\n",
       "      <th>1</th>\n",
       "      <td>0.398656</td>\n",
       "      <td>0.001742</td>\n",
       "      <td>0.425312</td>\n",
       "      <td>0.067916</td>\n",
       "      <td>0.256119</td>\n",
       "      <td>0.022131</td>\n",
       "      <td>0.388128</td>\n",
       "      <td>0.473913</td>\n",
       "      <td>0.106960</td>\n",
       "      <td>0.306081</td>\n",
       "      <td>0.281801</td>\n",
       "      <td>0.356684</td>\n",
       "      <td>0.319198</td>\n",
       "      <td>0.426938</td>\n",
       "      <td>0.378701</td>\n",
       "      <td>0.531609</td>\n",
       "      <td>0.329193</td>\n",
       "      <td>0.116776</td>\n",
       "      <td>0.645688</td>\n",
       "      <td>0.129210</td>\n",
       "    </tr>\n",
       "    <tr>\n",
       "      <th>2</th>\n",
       "      <td>0.095657</td>\n",
       "      <td>0.095819</td>\n",
       "      <td>0.243889</td>\n",
       "      <td>0.970726</td>\n",
       "      <td>0.090909</td>\n",
       "      <td>0.112198</td>\n",
       "      <td>0.438356</td>\n",
       "      <td>0.000000</td>\n",
       "      <td>1.000000</td>\n",
       "      <td>0.202247</td>\n",
       "      <td>0.307692</td>\n",
       "      <td>0.356684</td>\n",
       "      <td>0.463975</td>\n",
       "      <td>0.500635</td>\n",
       "      <td>0.731250</td>\n",
       "      <td>0.551724</td>\n",
       "      <td>0.273292</td>\n",
       "      <td>0.090651</td>\n",
       "      <td>1.000000</td>\n",
       "      <td>0.129210</td>\n",
       "    </tr>\n",
       "    <tr>\n",
       "      <th>3</th>\n",
       "      <td>0.634436</td>\n",
       "      <td>0.009292</td>\n",
       "      <td>0.210212</td>\n",
       "      <td>0.083138</td>\n",
       "      <td>0.131119</td>\n",
       "      <td>0.050437</td>\n",
       "      <td>0.408676</td>\n",
       "      <td>0.498261</td>\n",
       "      <td>0.099634</td>\n",
       "      <td>0.224719</td>\n",
       "      <td>0.164835</td>\n",
       "      <td>0.133333</td>\n",
       "      <td>0.182898</td>\n",
       "      <td>0.402795</td>\n",
       "      <td>0.379167</td>\n",
       "      <td>0.433908</td>\n",
       "      <td>0.260870</td>\n",
       "      <td>0.130144</td>\n",
       "      <td>0.517483</td>\n",
       "      <td>0.125592</td>\n",
       "    </tr>\n",
       "    <tr>\n",
       "      <th>4</th>\n",
       "      <td>0.701655</td>\n",
       "      <td>0.002323</td>\n",
       "      <td>0.158066</td>\n",
       "      <td>0.069087</td>\n",
       "      <td>0.177448</td>\n",
       "      <td>0.018013</td>\n",
       "      <td>0.349315</td>\n",
       "      <td>0.490435</td>\n",
       "      <td>0.171429</td>\n",
       "      <td>0.306081</td>\n",
       "      <td>0.281801</td>\n",
       "      <td>0.356684</td>\n",
       "      <td>0.319198</td>\n",
       "      <td>0.401399</td>\n",
       "      <td>0.378701</td>\n",
       "      <td>0.501554</td>\n",
       "      <td>0.460293</td>\n",
       "      <td>0.116776</td>\n",
       "      <td>0.347015</td>\n",
       "      <td>0.129210</td>\n",
       "    </tr>\n",
       "  </tbody>\n",
       "</table>\n",
       "</div>"
      ],
      "text/plain": [
       "   White (Not Latino) Population  African American Population  \\\n",
       "0                       0.831954                     0.004646   \n",
       "1                       0.398656                     0.001742   \n",
       "2                       0.095657                     0.095819   \n",
       "3                       0.634436                     0.009292   \n",
       "4                       0.701655                     0.002323   \n",
       "\n",
       "   Native American Population  Asian American Population  Other Race or Races  \\\n",
       "0                    0.083650                   0.005855             0.108392   \n",
       "1                    0.425312                   0.067916             0.256119   \n",
       "2                    0.243889                   0.970726             0.090909   \n",
       "3                    0.210212                   0.083138             0.131119   \n",
       "4                    0.158066                   0.069087             0.177448   \n",
       "\n",
       "   Latino Population  Gini.Coefficient  \\\n",
       "0           0.026248          0.463470   \n",
       "1           0.022131          0.388128   \n",
       "2           0.112198          0.438356   \n",
       "3           0.050437          0.408676   \n",
       "4           0.018013          0.349315   \n",
       "\n",
       "   Management.professional.and.related.occupations  \\\n",
       "0                                         0.552174   \n",
       "1                                         0.473913   \n",
       "2                                         0.000000   \n",
       "3                                         0.498261   \n",
       "4                                         0.490435   \n",
       "\n",
       "   Production.transportation.and.material.moving.occupations  \\\n",
       "0                                           0.114286           \n",
       "1                                           0.106960           \n",
       "2                                           1.000000           \n",
       "3                                           0.099634           \n",
       "4                                           0.171429           \n",
       "\n",
       "   Poor.physical.health.days  Poor.mental.health.days  Low.birthweight  \\\n",
       "0                   0.224719                 0.109890         0.356684   \n",
       "1                   0.306081                 0.281801         0.356684   \n",
       "2                   0.202247                 0.307692         0.356684   \n",
       "3                   0.224719                 0.164835         0.133333   \n",
       "4                   0.306081                 0.281801         0.356684   \n",
       "\n",
       "   Teen.births  Children.in.single.parent.households  Adult.smoking  \\\n",
       "0     0.319198                              0.249047       0.229167   \n",
       "1     0.319198                              0.426938       0.378701   \n",
       "2     0.463975                              0.500635       0.731250   \n",
       "3     0.182898                              0.402795       0.379167   \n",
       "4     0.319198                              0.401399       0.378701   \n",
       "\n",
       "   Adult.obesity  Diabetes  Sexually.transmitted.infections  Uninsured  \\\n",
       "0       0.474138  0.310559                         0.058300   0.585082   \n",
       "1       0.531609  0.329193                         0.116776   0.645688   \n",
       "2       0.551724  0.273292                         0.090651   1.000000   \n",
       "3       0.433908  0.260870                         0.130144   0.517483   \n",
       "4       0.501554  0.460293                         0.116776   0.347015   \n",
       "\n",
       "   Violent.crime  \n",
       "0       0.271977  \n",
       "1       0.129210  \n",
       "2       0.129210  \n",
       "3       0.125592  \n",
       "4       0.129210  "
      ]
     },
     "execution_count": 90,
     "metadata": {},
     "output_type": "execute_result"
    }
   ],
   "source": [
    "y = df.CountyOutcome\n",
    "x = df.drop(['CountyOutcome','Unnamed: 0','tSentiment','cSentiment'], axis=1)\n",
    "x.head()"
   ]
  },
  {
   "cell_type": "code",
   "execution_count": 91,
   "metadata": {},
   "outputs": [],
   "source": [
    "# split data train 70 % and test 30 %\n",
    "x_train, x_test, y_train, y_test = train_test_split(x, y, test_size=0.3, random_state=42)"
   ]
  },
  {
   "cell_type": "markdown",
   "metadata": {},
   "source": [
    "## SMOTE"
   ]
  },
  {
   "cell_type": "code",
   "execution_count": 92,
   "metadata": {},
   "outputs": [
    {
     "name": "stdout",
     "output_type": "stream",
     "text": [
      "Class=0, n=1875 (59.675%)\n",
      "Class=1, n=1875 (59.675%)\n"
     ]
    },
    {
     "data": {
      "image/png": "[encoded data removed]",
      "text/plain": [
       "<Figure size 432x288 with 1 Axes>"
      ]
     },
     "metadata": {
      "needs_background": "light"
     },
     "output_type": "display_data"
    }
   ],
   "source": [
    "#oversample = RandomOverSampler(sampling_strategy='minority')\n",
    "#oversample = RandomOverSampler(sampling_strategy=0.5)\n",
    "oversample = SMOTE(random_state=42)\n",
    "X_train, Y_train = oversample.fit_resample(x_train, y_train)\n",
    "counter = Counter(Y_train)\n",
    "for k,v in counter.items():\n",
    "\tper = v / len(y) * 100\n",
    "\tprint('Class=%s, n=%d (%.3f%%)' % (k, v, per))\n",
    "# plot the distribution\n",
    "plt.bar(counter.keys(), counter.values(), color=['red', 'blue'])\n",
    "plt.title(\"SMOTE sampling results\")\n",
    "plt.show()"
   ]
  },
  {
   "cell_type": "code",
   "execution_count": 93,
   "metadata": {},
   "outputs": [
    {
     "name": "stdout",
     "output_type": "stream",
     "text": [
      "Accuracy is:  0.9374337221633086\n"
     ]
    },
    {
     "data": {
      "text/plain": [
       "Text(0.5, 15.0, 'Predicted')"
      ]
     },
     "execution_count": 93,
     "metadata": {},
     "output_type": "execute_result"
    },
    {
     "data": {
      "image/png": "[encoded data removed]",
      "text/plain": [
       "<Figure size 432x288 with 2 Axes>"
      ]
     },
     "metadata": {
      "needs_background": "light"
     },
     "output_type": "display_data"
    }
   ],
   "source": [
    "#random forest classifier with n_estimators=10 (default)\n",
    "clf_rf = RandomForestClassifier(random_state=43)      \n",
    "clr_rf_OS = clf_rf.fit(X_train,Y_train)\n",
    "\n",
    "# Results - ROC Curve\n",
    "y_test_pred_probs_OS = clr_rf_OS.predict(x_test)\n",
    "ac = accuracy_score(y_test, y_test_pred_probs_OS)\n",
    "print('Accuracy is: ',ac)\n",
    "cm = confusion_matrix(y_test, y_test_pred_probs_OS)\n",
    "sns.heatmap(cm,annot=True,fmt=\"d\")\n",
    "plt.ylabel('Actual')\n",
    "plt.xlabel('Predicted')"
   ]
  },
  {
   "cell_type": "code",
   "execution_count": 94,
   "metadata": {
    "scrolled": true
   },
   "outputs": [
    {
     "name": "stdout",
     "output_type": "stream",
     "text": [
      "              precision    recall  f1-score   support\n",
      "\n",
      "           0    0.81988   0.81481   0.81734       162\n",
      "           1    0.96164   0.96287   0.96225       781\n",
      "\n",
      "    accuracy                        0.93743       943\n",
      "   macro avg    0.89076   0.88884   0.88979       943\n",
      "weighted avg    0.93728   0.93743   0.93736       943\n",
      "\n",
      "roc_auc score: 0.9653103808033386\n",
      "f1 score: [0.81733746 0.96225208]\n"
     ]
    }
   ],
   "source": [
    "print(classification_report(y_test, y_test_pred_probs_OS, digits=5))\n",
    "\n",
    "print(\"roc_auc score: \" + str(roc_auc_score(y_test, clr_rf_OS.predict_proba(x_test)[:,1])))\n",
    "print(\"f1 score: \" + str(f1_score(y_test, y_test_pred_probs_OS, average=None)))"
   ]
  },
  {
   "cell_type": "code",
   "execution_count": 153,
   "metadata": {},
   "outputs": [
    {
     "data": {
      "image/png": "[encoded data removed]",
      "text/plain": [
       "<Figure size 3200x3200 with 1 Axes>"
      ]
     },
     "metadata": {
      "needs_background": "light"
     },
     "output_type": "display_data"
    }
   ],
   "source": [
    "clf_rf = RandomForestClassifier(random_state=43)      \n",
    "clr_rf_OS = clf_rf.fit(X_train,Y_train)\n",
    "\n",
    "fig, axes = plt.subplots(nrows = 1,ncols = 1,figsize = (4,4), dpi=800)\n",
    "tree.plot_tree(clr_rf_OS.estimators_[1],\n",
    "               feature_names = x.columns, \n",
    "               class_names=['1', '0'],\n",
    "               filled = True);\n",
    "fig.savefig('rf_individualtree.png')"
   ]
  },
  {
   "cell_type": "code",
   "execution_count": 98,
   "metadata": {
    "scrolled": true
   },
   "outputs": [
    {
     "name": "stdout",
     "output_type": "stream",
     "text": [
      "White (Not Latino) Population = 0.15021806105052374\n",
      "African American Population = 0.07978402442797214\n",
      "Native American Population = 0.015221219530242972\n",
      "Asian American Population = 0.1265911831005966\n",
      "Other Race or Races = 0.044584739316498166\n",
      "Latino Population = 0.03589859075888321\n",
      "Gini.Coefficient = 0.026179537426500026\n",
      "Management.professional.and.related.occupations = 0.04364054967816294\n",
      "Production.transportation.and.material.moving.occupations = 0.06745538024177186\n",
      "Poor.physical.health.days = 0.015993976153159346\n",
      "Poor.mental.health.days = 0.017641197618179724\n",
      "Low.birthweight = 0.01814897530373746\n",
      "Teen.births = 0.0294581399353569\n",
      "Children.in.single.parent.households = 0.03968024707742541\n",
      "Adult.smoking = 0.03193479311133277\n",
      "Adult.obesity = 0.07160244966935403\n",
      "Diabetes = 0.0754438135915148\n",
      "Sexually.transmitted.infections = 0.05148007072497041\n",
      "Uninsured = 0.023338415821515218\n",
      "Violent.crime = 0.03570463546230223\n"
     ]
    }
   ],
   "source": [
    "clr_rf_OS.feature_importances_.shape\n",
    "for name, importance in zip(x.columns, clr_rf_OS.feature_importances_):\n",
    "    print(name, \"=\", importance)"
   ]
  },
  {
   "cell_type": "code",
   "execution_count": 135,
   "metadata": {},
   "outputs": [
    {
     "data": {
      "image/png": "[encoded data removed]",
      "text/plain": [
       "<Figure size 432x288 with 1 Axes>"
      ]
     },
     "metadata": {
      "needs_background": "light"
     },
     "output_type": "display_data"
    }
   ],
   "source": [
    "features = x.columns\n",
    "importances = clr_rf_OS.feature_importances_\n",
    "indices = np.argsort(importances)\n",
    "\n",
    "plt.title('Feature Importances')\n",
    "plt.barh(range(len(indices)), importances[indices], color='b', align='center')\n",
    "plt.yticks(range(len(indices)), [features[i] for i in indices])\n",
    "plt.xlabel('Relative Importance')\n",
    "plt.show()"
   ]
  },
  {
   "cell_type": "code",
   "execution_count": 147,
   "metadata": {
    "scrolled": true
   },
   "outputs": [
    {
     "name": "stdout",
     "output_type": "stream",
     "text": [
      "TREE: 0\n",
      "0 NODE: if feature[1] < 0.5185830295085907 then next=1 else next=4\n",
      "1 NODE: if feature[15] < 0.3520114868879318 then next=2 else next=3\n",
      "2 LEAF: return class=1\n",
      "3 LEAF: return class=1\n",
      "4 NODE: if feature[1] < 0.5754936039447784 then next=5 else next=6\n",
      "5 LEAF: return class=0\n",
      "6 LEAF: return class=0\n",
      "TREE: 1\n",
      "0 NODE: if feature[19] < 0.22315459698438644 then next=1 else next=4\n",
      "1 NODE: if feature[1] < 0.542102187871933 then next=2 else next=3\n",
      "2 LEAF: return class=1\n",
      "3 LEAF: return class=0\n",
      "4 NODE: if feature[9] < 0.2977527976036072 then next=5 else next=6\n",
      "5 LEAF: return class=0\n",
      "6 LEAF: return class=1\n",
      "TREE: 2\n",
      "0 NODE: if feature[6] < 0.5696347057819366 then next=1 else next=4\n",
      "1 NODE: if feature[13] < 0.7210927605628967 then next=2 else next=3\n",
      "2 LEAF: return class=1\n",
      "3 LEAF: return class=0\n",
      "4 NODE: if feature[3] < 0.025761124677956104 then next=5 else next=6\n",
      "5 LEAF: return class=1\n",
      "6 LEAF: return class=0\n"
     ]
    }
   ],
   "source": [
    "from sklearn import metrics, datasets, ensemble\n",
    "\n",
    "def print_decision_rules(rf):\n",
    "\n",
    "    for tree_idx, est in enumerate(rf.estimators_):\n",
    "        tree = est.tree_\n",
    "        assert tree.value.shape[1] == 1 # no support for multi-output\n",
    "\n",
    "        print('TREE: {}'.format(tree_idx))\n",
    "\n",
    "        iterator = enumerate(zip(tree.children_left, tree.children_right, tree.feature, tree.threshold, tree.value))\n",
    "        for node_idx, data in iterator:\n",
    "            left, right, feature, th, value = data\n",
    "\n",
    "            # left: index of left child (if any)\n",
    "            # right: index of right child (if any)\n",
    "            # feature: index of the feature to check\n",
    "            # th: the threshold to compare against\n",
    "            # value: values associated with classes            \n",
    "\n",
    "            # for classifier, value is 0 except the index of the class to return\n",
    "            class_idx = np.argmax(value[0])\n",
    "\n",
    "            if left == -1 and right == -1:\n",
    "                print('{} LEAF: return class={}'.format(node_idx, class_idx))\n",
    "            else:\n",
    "                print('{} NODE: if feature[{}] < {} then next={} else next={}'.format(node_idx, feature, th, left, right))    \n",
    "\n",
    "estimator = ensemble.RandomForestClassifier(random_state=43, n_estimators=3, max_depth=2)\n",
    "estimator.fit(x_train, y_train)\n",
    "\n",
    "print_decision_rules(estimator)"
   ]
  },
  {
   "cell_type": "code",
   "execution_count": 170,
   "metadata": {},
   "outputs": [],
   "source": [
    "estimator = RandomForestClassifier(random_state=43, max_depth=10, max_features=3, min_samples_leaf=1, min_samples_split=3,\n",
    "                                   n_estimators=200).fit(x_train, y_train)"
   ]
  },
  {
   "cell_type": "code",
   "execution_count": 171,
   "metadata": {},
   "outputs": [],
   "source": [
    "estimatorAccuracy=[]\n",
    "for curEstimator in range(3):\n",
    "    estimatorAccuracy.append([curEstimator,accuracy_score(y, estimator.estimators_[curEstimator].predict(x))])\n",
    "\n",
    "estimatorAccuracy=pd.DataFrame(estimatorAccuracy,columns=['estimatorNumber','Accuracy'])\n",
    "estimatorAccuracy.sort_values(inplace=True,by='Accuracy',ascending=False)\n",
    "\n",
    "bestDecisionTree= estimator.estimators_[estimatorAccuracy.head(1)['estimatorNumber'].values[0]]"
   ]
  },
  {
   "cell_type": "code",
   "execution_count": 172,
   "metadata": {},
   "outputs": [
    {
     "name": "stdout",
     "output_type": "stream",
     "text": [
      "DecisionTreeClassifier(max_depth=10, max_features=3, min_samples_split=3,\n",
      "                       random_state=494155588)\n"
     ]
    }
   ],
   "source": [
    "print(bestDecisionTree)"
   ]
  },
  {
   "cell_type": "code",
   "execution_count": 173,
   "metadata": {},
   "outputs": [
    {
     "data": {
      "text/plain": [
       "[Text(212.6570687269373, 207.55636363636364, 'X[1] <= 0.519\\ngini = 0.251\\nsamples = 2199\\nvalue = [324, 1875]'),\n",
       " Text(105.95694188191884, 187.7890909090909, 'X[0] <= 0.516\\ngini = 0.209\\nsamples = 2113\\nvalue = [250, 1863]'),\n",
       " Text(26.71605166051661, 168.0218181818182, 'X[18] <= 0.411\\ngini = 0.5\\nsamples = 165\\nvalue = [82, 83]'),\n",
       " Text(9.88339483394834, 148.25454545454545, 'X[2] <= 0.017\\ngini = 0.214\\nsamples = 41\\nvalue = [36, 5]'),\n",
       " Text(4.94169741697417, 128.48727272727274, 'X[16] <= 0.696\\ngini = 0.059\\nsamples = 33\\nvalue = [32, 1]'),\n",
       " Text(2.470848708487085, 108.72, 'gini = 0.0\\nsamples = 32\\nvalue = [32, 0]'),\n",
       " Text(7.4125461254612555, 108.72, 'gini = 0.0\\nsamples = 1\\nvalue = [0, 1]'),\n",
       " Text(14.825092250922511, 128.48727272727274, 'X[4] <= 0.04\\ngini = 0.5\\nsamples = 8\\nvalue = [4, 4]'),\n",
       " Text(12.354243542435427, 108.72, 'gini = 0.0\\nsamples = 3\\nvalue = [3, 0]'),\n",
       " Text(17.295940959409595, 108.72, 'X[13] <= 0.776\\ngini = 0.32\\nsamples = 5\\nvalue = [1, 4]'),\n",
       " Text(14.825092250922511, 88.95272727272729, 'gini = 0.0\\nsamples = 4\\nvalue = [0, 4]'),\n",
       " Text(19.76678966789668, 88.95272727272729, 'gini = 0.0\\nsamples = 1\\nvalue = [1, 0]'),\n",
       " Text(43.54870848708487, 148.25454545454545, 'X[0] <= 0.34\\ngini = 0.467\\nsamples = 124\\nvalue = [46, 78]'),\n",
       " Text(32.12103321033211, 128.48727272727274, 'X[10] <= 0.192\\ngini = 0.43\\nsamples = 48\\nvalue = [33, 15]'),\n",
       " Text(27.179335793357936, 108.72, 'X[5] <= 0.542\\ngini = 0.219\\nsamples = 8\\nvalue = [1, 7]'),\n",
       " Text(24.708487084870853, 88.95272727272729, 'gini = 0.0\\nsamples = 7\\nvalue = [0, 7]'),\n",
       " Text(29.650184501845022, 88.95272727272729, 'gini = 0.0\\nsamples = 1\\nvalue = [1, 0]'),\n",
       " Text(37.06273062730628, 108.72, 'X[8] <= 0.262\\ngini = 0.32\\nsamples = 40\\nvalue = [32, 8]'),\n",
       " Text(34.59188191881919, 88.95272727272729, 'X[5] <= 0.789\\ngini = 0.266\\nsamples = 38\\nvalue = [32, 6]'),\n",
       " Text(32.12103321033211, 69.18545454545455, 'X[8] <= 0.181\\ngini = 0.397\\nsamples = 22\\nvalue = [16, 6]'),\n",
       " Text(27.179335793357936, 49.418181818181836, 'X[9] <= 0.275\\ngini = 0.305\\nsamples = 16\\nvalue = [13, 3]'),\n",
       " Text(24.708487084870853, 29.650909090909096, 'gini = 0.0\\nsamples = 1\\nvalue = [0, 1]'),\n",
       " Text(29.650184501845022, 29.650909090909096, 'X[17] <= 0.203\\ngini = 0.231\\nsamples = 15\\nvalue = [13, 2]'),\n",
       " Text(27.179335793357936, 9.883636363636384, 'gini = 0.0\\nsamples = 6\\nvalue = [6, 0]'),\n",
       " Text(32.12103321033211, 9.883636363636384, 'gini = 0.346\\nsamples = 9\\nvalue = [7, 2]'),\n",
       " Text(37.06273062730628, 49.418181818181836, 'X[8] <= 0.202\\ngini = 0.5\\nsamples = 6\\nvalue = [3, 3]'),\n",
       " Text(34.59188191881919, 29.650909090909096, 'gini = 0.0\\nsamples = 3\\nvalue = [0, 3]'),\n",
       " Text(39.53357933579336, 29.650909090909096, 'gini = 0.0\\nsamples = 3\\nvalue = [3, 0]'),\n",
       " Text(37.06273062730628, 69.18545454545455, 'gini = 0.0\\nsamples = 16\\nvalue = [16, 0]'),\n",
       " Text(39.53357933579336, 88.95272727272729, 'gini = 0.0\\nsamples = 2\\nvalue = [0, 2]'),\n",
       " Text(54.976383763837646, 128.48727272727274, 'X[3] <= 0.101\\ngini = 0.284\\nsamples = 76\\nvalue = [13, 63]'),\n",
       " Text(52.505535055350556, 108.72, 'X[12] <= 0.313\\ngini = 0.159\\nsamples = 69\\nvalue = [6, 63]'),\n",
       " Text(44.475276752767535, 88.95272727272729, 'X[19] <= 0.172\\ngini = 0.444\\nsamples = 3\\nvalue = [2, 1]'),\n",
       " Text(42.004428044280445, 69.18545454545455, 'gini = 0.0\\nsamples = 1\\nvalue = [0, 1]'),\n",
       " Text(46.94612546125462, 69.18545454545455, 'gini = 0.0\\nsamples = 2\\nvalue = [2, 0]'),\n",
       " Text(60.535793357933585, 88.95272727272729, 'X[14] <= 0.364\\ngini = 0.114\\nsamples = 66\\nvalue = [4, 62]'),\n",
       " Text(51.88782287822879, 69.18545454545455, 'X[15] <= 0.404\\ngini = 0.32\\nsamples = 15\\nvalue = [3, 12]'),\n",
       " Text(46.94612546125462, 49.418181818181836, 'X[18] <= 0.544\\ngini = 0.444\\nsamples = 3\\nvalue = [2, 1]'),\n",
       " Text(44.475276752767535, 29.650909090909096, 'gini = 0.0\\nsamples = 2\\nvalue = [2, 0]'),\n",
       " Text(49.41697416974171, 29.650909090909096, 'gini = 0.0\\nsamples = 1\\nvalue = [0, 1]'),\n",
       " Text(56.82952029520296, 49.418181818181836, 'X[14] <= 0.352\\ngini = 0.153\\nsamples = 12\\nvalue = [1, 11]'),\n",
       " Text(54.35867158671587, 29.650909090909096, 'gini = 0.0\\nsamples = 11\\nvalue = [0, 11]'),\n",
       " Text(59.300369003690044, 29.650909090909096, 'gini = 0.0\\nsamples = 1\\nvalue = [1, 0]'),\n",
       " Text(69.18376383763838, 69.18545454545455, 'X[7] <= 0.229\\ngini = 0.038\\nsamples = 51\\nvalue = [1, 50]'),\n",
       " Text(66.7129151291513, 49.418181818181836, 'X[18] <= 0.488\\ngini = 0.375\\nsamples = 4\\nvalue = [1, 3]'),\n",
       " Text(64.24206642066422, 29.650909090909096, 'gini = 0.0\\nsamples = 1\\nvalue = [1, 0]'),\n",
       " Text(69.18376383763838, 29.650909090909096, 'gini = 0.0\\nsamples = 3\\nvalue = [0, 3]'),\n",
       " Text(71.65461254612546, 49.418181818181836, 'gini = 0.0\\nsamples = 47\\nvalue = [0, 47]'),\n",
       " Text(57.44723247232473, 108.72, 'gini = 0.0\\nsamples = 7\\nvalue = [7, 0]'),\n",
       " Text(185.19783210332105, 168.0218181818182, 'X[7] <= 0.458\\ngini = 0.158\\nsamples = 1948\\nvalue = [168, 1780]'),\n",
       " Text(130.8777675276753, 148.25454545454545, 'X[4] <= 0.031\\ngini = 0.076\\nsamples = 1623\\nvalue = [64, 1559]'),\n",
       " Text(86.01642066420665, 128.48727272727274, 'X[8] <= 0.076\\ngini = 0.035\\nsamples = 1235\\nvalue = [22, 1213]'),\n",
       " Text(74.12546125461256, 108.72, 'X[10] <= 0.181\\ngini = 0.444\\nsamples = 6\\nvalue = [4, 2]'),\n",
       " Text(71.65461254612546, 88.95272727272729, 'gini = 0.0\\nsamples = 3\\nvalue = [3, 0]'),\n",
       " Text(76.59630996309964, 88.95272727272729, 'X[8] <= 0.042\\ngini = 0.444\\nsamples = 3\\nvalue = [1, 2]'),\n",
       " Text(74.12546125461256, 69.18545454545455, 'gini = 0.0\\nsamples = 1\\nvalue = [1, 0]'),\n",
       " Text(79.06715867158672, 69.18545454545455, 'gini = 0.0\\nsamples = 2\\nvalue = [0, 2]'),\n",
       " Text(97.90738007380075, 108.72, 'X[16] <= 0.143\\ngini = 0.029\\nsamples = 1229\\nvalue = [18, 1211]'),\n",
       " Text(86.47970479704799, 88.95272727272729, 'X[16] <= 0.109\\ngini = 0.375\\nsamples = 4\\nvalue = [3, 1]'),\n",
       " Text(84.00885608856089, 69.18545454545455, 'gini = 0.0\\nsamples = 2\\nvalue = [2, 0]'),\n",
       " Text(88.95055350553507, 69.18545454545455, 'gini = 0.5\\nsamples = 2\\nvalue = [1, 1]'),\n",
       " Text(109.33505535055352, 88.95272727272729, 'X[7] <= 0.429\\ngini = 0.024\\nsamples = 1225\\nvalue = [15, 1210]'),\n",
       " Text(93.89225092250923, 69.18545454545455, 'X[0] <= 0.537\\ngini = 0.014\\nsamples = 1150\\nvalue = [8, 1142]'),\n",
       " Text(85.24428044280444, 49.418181818181836, 'X[7] <= 0.369\\ngini = 0.18\\nsamples = 20\\nvalue = [2, 18]'),\n",
       " Text(82.77343173431736, 29.650909090909096, 'gini = 0.0\\nsamples = 17\\nvalue = [0, 17]'),\n",
       " Text(87.71512915129152, 29.650909090909096, 'X[9] <= 0.253\\ngini = 0.444\\nsamples = 3\\nvalue = [2, 1]'),\n",
       " Text(85.24428044280444, 9.883636363636384, 'gini = 0.0\\nsamples = 1\\nvalue = [0, 1]'),\n",
       " Text(90.1859778597786, 9.883636363636384, 'gini = 0.0\\nsamples = 2\\nvalue = [2, 0]'),\n",
       " Text(102.54022140221403, 49.418181818181836, 'X[8] <= 0.132\\ngini = 0.011\\nsamples = 1130\\nvalue = [6, 1124]'),\n",
       " Text(97.59852398523986, 29.650909090909096, 'X[8] <= 0.132\\ngini = 0.087\\nsamples = 44\\nvalue = [2, 42]'),\n",
       " Text(95.12767527675278, 9.883636363636384, 'gini = 0.045\\nsamples = 43\\nvalue = [1, 42]'),\n",
       " Text(100.06937269372695, 9.883636363636384, 'gini = 0.0\\nsamples = 1\\nvalue = [1, 0]'),\n",
       " Text(107.48191881918821, 29.650909090909096, 'X[12] <= 0.138\\ngini = 0.007\\nsamples = 1086\\nvalue = [4, 1082]'),\n",
       " Text(105.01107011070111, 9.883636363636384, 'gini = 0.054\\nsamples = 72\\nvalue = [2, 70]'),\n",
       " Text(109.95276752767529, 9.883636363636384, 'gini = 0.004\\nsamples = 1014\\nvalue = [2, 1012]'),\n",
       " Text(124.7778597785978, 69.18545454545455, 'X[2] <= 0.003\\ngini = 0.169\\nsamples = 75\\nvalue = [7, 68]'),\n",
       " Text(119.83616236162364, 49.418181818181836, 'X[14] <= 0.343\\ngini = 0.328\\nsamples = 29\\nvalue = [6, 23]'),\n",
       " Text(117.36531365313654, 29.650909090909096, 'X[14] <= 0.291\\ngini = 0.457\\nsamples = 17\\nvalue = [6, 11]'),\n",
       " Text(114.89446494464946, 9.883636363636384, 'gini = 0.278\\nsamples = 12\\nvalue = [2, 10]'),\n",
       " Text(119.83616236162364, 9.883636363636384, 'gini = 0.32\\nsamples = 5\\nvalue = [4, 1]'),\n",
       " Text(122.30701107011072, 29.650909090909096, 'gini = 0.0\\nsamples = 12\\nvalue = [0, 12]'),\n",
       " Text(129.71955719557198, 49.418181818181836, 'X[6] <= 0.527\\ngini = 0.043\\nsamples = 46\\nvalue = [1, 45]'),\n",
       " Text(127.24870848708488, 29.650909090909096, 'gini = 0.0\\nsamples = 35\\nvalue = [0, 35]'),\n",
       " Text(132.19040590405905, 29.650909090909096, 'X[17] <= 0.074\\ngini = 0.165\\nsamples = 11\\nvalue = [1, 10]'),\n",
       " Text(129.71955719557198, 9.883636363636384, 'gini = 0.375\\nsamples = 4\\nvalue = [1, 3]'),\n",
       " Text(134.66125461254614, 9.883636363636384, 'gini = 0.0\\nsamples = 7\\nvalue = [0, 7]'),\n",
       " Text(175.73911439114394, 128.48727272727274, 'X[16] <= 0.419\\ngini = 0.193\\nsamples = 388\\nvalue = [42, 346]'),\n",
       " Text(161.2228782287823, 108.72, 'X[7] <= 0.441\\ngini = 0.338\\nsamples = 153\\nvalue = [33, 120]'),\n",
       " Text(153.19261992619928, 88.95272727272729, 'X[8] <= 0.068\\ngini = 0.312\\nsamples = 145\\nvalue = [28, 117]'),\n",
       " Text(150.7217712177122, 69.18545454545455, 'gini = 0.0\\nsamples = 2\\nvalue = [2, 0]'),\n",
       " Text(155.66346863468635, 69.18545454545455, 'X[3] <= 0.077\\ngini = 0.298\\nsamples = 143\\nvalue = [26, 117]'),\n",
       " Text(147.01549815498157, 49.418181818181836, 'X[2] <= 0.002\\ngini = 0.248\\nsamples = 131\\nvalue = [19, 112]'),\n",
       " Text(142.0738007380074, 29.650909090909096, 'X[16] <= 0.376\\ngini = 0.494\\nsamples = 9\\nvalue = [5, 4]'),\n",
       " Text(139.6029520295203, 9.883636363636384, 'gini = 0.0\\nsamples = 3\\nvalue = [3, 0]'),\n",
       " Text(144.54464944649447, 9.883636363636384, 'gini = 0.444\\nsamples = 6\\nvalue = [2, 4]'),\n",
       " Text(151.95719557195574, 29.650909090909096, 'X[15] <= 0.478\\ngini = 0.203\\nsamples = 122\\nvalue = [14, 108]'),\n",
       " Text(149.48634686346864, 9.883636363636384, 'gini = 0.286\\nsamples = 81\\nvalue = [14, 67]'),\n",
       " Text(154.42804428044283, 9.883636363636384, 'gini = 0.0\\nsamples = 41\\nvalue = [0, 41]'),\n",
       " Text(164.31143911439116, 49.418181818181836, 'X[18] <= 0.514\\ngini = 0.486\\nsamples = 12\\nvalue = [7, 5]'),\n",
       " Text(161.84059040590407, 29.650909090909096, 'X[1] <= 0.019\\ngini = 0.42\\nsamples = 10\\nvalue = [7, 3]'),\n",
       " Text(159.369741697417, 9.883636363636384, 'gini = 0.444\\nsamples = 3\\nvalue = [1, 2]'),\n",
       " Text(164.31143911439116, 9.883636363636384, 'gini = 0.245\\nsamples = 7\\nvalue = [6, 1]'),\n",
       " Text(166.78228782287826, 29.650909090909096, 'gini = 0.0\\nsamples = 2\\nvalue = [0, 2]'),\n",
       " Text(169.25313653136533, 88.95272727272729, 'X[14] <= 0.301\\ngini = 0.469\\nsamples = 8\\nvalue = [5, 3]'),\n",
       " Text(166.78228782287826, 69.18545454545455, 'gini = 0.0\\nsamples = 4\\nvalue = [4, 0]'),\n",
       " Text(171.72398523985242, 69.18545454545455, 'X[16] <= 0.37\\ngini = 0.375\\nsamples = 4\\nvalue = [1, 3]'),\n",
       " Text(169.25313653136533, 49.418181818181836, 'gini = 0.0\\nsamples = 3\\nvalue = [0, 3]'),\n",
       " Text(174.1948339483395, 49.418181818181836, 'gini = 0.0\\nsamples = 1\\nvalue = [1, 0]'),\n",
       " Text(190.25535055350556, 108.72, 'X[11] <= 0.378\\ngini = 0.074\\nsamples = 235\\nvalue = [9, 226]'),\n",
       " Text(184.07822878228785, 88.95272727272729, 'X[3] <= 0.112\\ngini = 0.027\\nsamples = 144\\nvalue = [2, 142]'),\n",
       " Text(181.60738007380075, 69.18545454545455, 'X[19] <= 0.294\\ngini = 0.014\\nsamples = 143\\nvalue = [1, 142]'),\n",
       " Text(179.1365313653137, 49.418181818181836, 'gini = 0.0\\nsamples = 139\\nvalue = [0, 139]'),\n",
       " Text(184.07822878228785, 49.418181818181836, 'X[9] <= 0.303\\ngini = 0.375\\nsamples = 4\\nvalue = [1, 3]'),\n",
       " Text(181.60738007380075, 29.650909090909096, 'gini = 0.0\\nsamples = 1\\nvalue = [1, 0]'),\n",
       " Text(186.54907749077492, 29.650909090909096, 'gini = 0.0\\nsamples = 3\\nvalue = [0, 3]'),\n",
       " Text(186.54907749077492, 69.18545454545455, 'gini = 0.0\\nsamples = 1\\nvalue = [1, 0]'),\n",
       " Text(196.43247232472328, 88.95272727272729, 'X[14] <= 0.255\\ngini = 0.142\\nsamples = 91\\nvalue = [7, 84]'),\n",
       " Text(193.96162361623618, 69.18545454545455, 'gini = 0.5\\nsamples = 2\\nvalue = [1, 1]'),\n",
       " Text(198.90332103321035, 69.18545454545455, 'X[19] <= 0.386\\ngini = 0.126\\nsamples = 89\\nvalue = [6, 83]'),\n",
       " Text(193.96162361623618, 49.418181818181836, 'X[14] <= 0.484\\ngini = 0.048\\nsamples = 81\\nvalue = [2, 79]'),\n",
       " Text(191.4907749077491, 29.650909090909096, 'gini = 0.0\\nsamples = 55\\nvalue = [0, 55]'),\n",
       " Text(196.43247232472328, 29.650909090909096, 'X[13] <= 0.684\\ngini = 0.142\\nsamples = 26\\nvalue = [2, 24]'),\n",
       " Text(193.96162361623618, 9.883636363636384, 'gini = 0.077\\nsamples = 25\\nvalue = [1, 24]'),\n",
       " Text(198.90332103321035, 9.883636363636384, 'gini = 0.0\\nsamples = 1\\nvalue = [1, 0]'),\n",
       " Text(203.8450184501845, 49.418181818181836, 'X[2] <= 0.006\\ngini = 0.5\\nsamples = 8\\nvalue = [4, 4]'),\n",
       " Text(201.37416974169744, 29.650909090909096, 'gini = 0.0\\nsamples = 4\\nvalue = [4, 0]'),\n",
       " Text(206.3158671586716, 29.650909090909096, 'gini = 0.0\\nsamples = 4\\nvalue = [0, 4]'),\n",
       " Text(239.51789667896682, 148.25454545454545, 'X[4] <= 0.026\\ngini = 0.435\\nsamples = 325\\nvalue = [104, 221]'),\n",
       " Text(218.67011070110703, 128.48727272727274, 'X[16] <= 0.186\\ngini = 0.18\\nsamples = 140\\nvalue = [14, 126]'),\n",
       " Text(216.19926199261994, 108.72, 'gini = 0.0\\nsamples = 2\\nvalue = [2, 0]'),\n",
       " Text(221.14095940959413, 108.72, 'X[17] <= 0.189\\ngini = 0.159\\nsamples = 138\\nvalue = [12, 126]'),\n",
       " Text(216.19926199261994, 88.95272727272729, 'X[3] <= 0.011\\ngini = 0.125\\nsamples = 134\\nvalue = [9, 125]'),\n",
       " Text(213.72841328413287, 69.18545454545455, 'gini = 0.0\\nsamples = 74\\nvalue = [0, 74]'),\n",
       " Text(218.67011070110703, 69.18545454545455, 'X[15] <= 0.364\\ngini = 0.255\\nsamples = 60\\nvalue = [9, 51]'),\n",
       " Text(213.72841328413287, 49.418181818181836, 'X[17] <= 0.045\\ngini = 0.48\\nsamples = 20\\nvalue = [8, 12]'),\n",
       " Text(211.25756457564577, 29.650909090909096, 'gini = 0.0\\nsamples = 5\\nvalue = [0, 5]'),\n",
       " Text(216.19926199261994, 29.650909090909096, 'X[18] <= 0.209\\ngini = 0.498\\nsamples = 15\\nvalue = [8, 7]'),\n",
       " Text(213.72841328413287, 9.883636363636384, 'gini = 0.245\\nsamples = 7\\nvalue = [6, 1]'),\n",
       " Text(218.67011070110703, 9.883636363636384, 'gini = 0.375\\nsamples = 8\\nvalue = [2, 6]'),\n",
       " Text(223.6118081180812, 49.418181818181836, 'X[13] <= 0.355\\ngini = 0.049\\nsamples = 40\\nvalue = [1, 39]'),\n",
       " Text(221.14095940959413, 29.650909090909096, 'gini = 0.0\\nsamples = 33\\nvalue = [0, 33]'),\n",
       " Text(226.0826568265683, 29.650909090909096, 'X[18] <= 0.254\\ngini = 0.245\\nsamples = 7\\nvalue = [1, 6]'),\n",
       " Text(223.6118081180812, 9.883636363636384, 'gini = 0.0\\nsamples = 1\\nvalue = [1, 0]'),\n",
       " Text(228.55350553505536, 9.883636363636384, 'gini = 0.0\\nsamples = 6\\nvalue = [0, 6]'),\n",
       " Text(226.0826568265683, 88.95272727272729, 'X[13] <= 0.463\\ngini = 0.375\\nsamples = 4\\nvalue = [3, 1]'),\n",
       " Text(223.6118081180812, 69.18545454545455, 'gini = 0.0\\nsamples = 1\\nvalue = [0, 1]'),\n",
       " Text(228.55350553505536, 69.18545454545455, 'gini = 0.0\\nsamples = 3\\nvalue = [3, 0]'),\n",
       " Text(260.3656826568266, 128.48727272727274, 'X[15] <= 0.365\\ngini = 0.5\\nsamples = 185\\nvalue = [90, 95]'),\n",
       " Text(244.61402214022144, 108.72, 'X[14] <= 0.109\\ngini = 0.398\\nsamples = 73\\nvalue = [53, 20]'),\n",
       " Text(242.14317343173434, 88.95272727272729, 'gini = 0.0\\nsamples = 4\\nvalue = [0, 4]'),\n",
       " Text(247.0848708487085, 88.95272727272729, 'X[16] <= 0.398\\ngini = 0.356\\nsamples = 69\\nvalue = [53, 16]'),\n",
       " Text(244.61402214022144, 69.18545454545455, 'X[2] <= 0.004\\ngini = 0.301\\nsamples = 65\\nvalue = [53, 12]'),\n",
       " Text(238.43690036900372, 49.418181818181836, 'X[10] <= 0.17\\ngini = 0.145\\nsamples = 38\\nvalue = [35, 3]'),\n",
       " Text(235.96605166051663, 29.650909090909096, 'X[3] <= 0.106\\ngini = 0.42\\nsamples = 10\\nvalue = [7, 3]'),\n",
       " Text(233.49520295202956, 9.883636363636384, 'gini = 0.375\\nsamples = 4\\nvalue = [1, 3]'),\n",
       " Text(238.43690036900372, 9.883636363636384, 'gini = 0.0\\nsamples = 6\\nvalue = [6, 0]'),\n",
       " Text(240.9077490774908, 29.650909090909096, 'gini = 0.0\\nsamples = 28\\nvalue = [28, 0]'),\n",
       " Text(250.79114391143915, 49.418181818181836, 'X[18] <= 0.256\\ngini = 0.444\\nsamples = 27\\nvalue = [18, 9]'),\n",
       " Text(245.84944649446498, 29.650909090909096, 'X[13] <= 0.22\\ngini = 0.165\\nsamples = 11\\nvalue = [10, 1]'),\n",
       " Text(243.3785977859779, 9.883636363636384, 'gini = 0.5\\nsamples = 2\\nvalue = [1, 1]'),\n",
       " Text(248.32029520295205, 9.883636363636384, 'gini = 0.0\\nsamples = 9\\nvalue = [9, 0]'),\n",
       " Text(255.73284132841331, 29.650909090909096, 'X[5] <= 0.127\\ngini = 0.5\\nsamples = 16\\nvalue = [8, 8]'),\n",
       " Text(253.26199261992622, 9.883636363636384, 'gini = 0.463\\nsamples = 11\\nvalue = [7, 4]'),\n",
       " Text(258.2036900369004, 9.883636363636384, 'gini = 0.32\\nsamples = 5\\nvalue = [1, 4]'),\n",
       " Text(249.5557195571956, 69.18545454545455, 'gini = 0.0\\nsamples = 4\\nvalue = [0, 4]'),\n",
       " Text(276.1173431734318, 108.72, 'X[6] <= 0.489\\ngini = 0.442\\nsamples = 112\\nvalue = [37, 75]'),\n",
       " Text(263.14538745387455, 88.95272727272729, 'X[3] <= 0.091\\ngini = 0.187\\nsamples = 48\\nvalue = [5, 43]'),\n",
       " Text(258.2036900369004, 69.18545454545455, 'X[0] <= 0.972\\ngini = 0.049\\nsamples = 40\\nvalue = [1, 39]'),\n",
       " Text(255.73284132841331, 49.418181818181836, 'gini = 0.0\\nsamples = 38\\nvalue = [0, 38]'),\n",
       " Text(260.6745387453875, 49.418181818181836, 'gini = 0.5\\nsamples = 2\\nvalue = [1, 1]'),\n",
       " Text(268.08708487084874, 69.18545454545455, 'X[0] <= 0.699\\ngini = 0.5\\nsamples = 8\\nvalue = [4, 4]'),\n",
       " Text(265.61623616236164, 49.418181818181836, 'gini = 0.0\\nsamples = 3\\nvalue = [0, 3]'),\n",
       " Text(270.55793357933584, 49.418181818181836, 'X[5] <= 0.051\\ngini = 0.32\\nsamples = 5\\nvalue = [4, 1]'),\n",
       " Text(268.08708487084874, 29.650909090909096, 'gini = 0.0\\nsamples = 1\\nvalue = [0, 1]'),\n",
       " Text(273.02878228782293, 29.650909090909096, 'gini = 0.0\\nsamples = 4\\nvalue = [4, 0]'),\n",
       " Text(289.08929889298895, 88.95272727272729, 'X[15] <= 0.455\\ngini = 0.5\\nsamples = 64\\nvalue = [32, 32]'),\n",
       " Text(282.91217712177126, 69.18545454545455, 'X[19] <= 0.141\\ngini = 0.438\\nsamples = 34\\nvalue = [23, 11]'),\n",
       " Text(280.44132841328417, 49.418181818181836, 'X[0] <= 0.768\\ngini = 0.457\\nsamples = 17\\nvalue = [6, 11]'),\n",
       " Text(277.97047970479707, 29.650909090909096, 'gini = 0.0\\nsamples = 2\\nvalue = [2, 0]'),\n",
       " Text(282.91217712177126, 29.650909090909096, 'X[19] <= 0.111\\ngini = 0.391\\nsamples = 15\\nvalue = [4, 11]'),\n",
       " Text(280.44132841328417, 9.883636363636384, 'gini = 0.494\\nsamples = 9\\nvalue = [4, 5]'),\n",
       " Text(285.38302583025836, 9.883636363636384, 'gini = 0.0\\nsamples = 6\\nvalue = [0, 6]'),\n",
       " Text(285.38302583025836, 49.418181818181836, 'gini = 0.0\\nsamples = 17\\nvalue = [17, 0]'),\n",
       " Text(295.2664206642067, 69.18545454545455, 'X[18] <= 0.26\\ngini = 0.42\\nsamples = 30\\nvalue = [9, 21]'),\n",
       " Text(290.3247232472325, 49.418181818181836, 'X[3] <= 0.046\\ngini = 0.469\\nsamples = 8\\nvalue = [5, 3]'),\n",
       " Text(287.8538745387454, 29.650909090909096, 'gini = 0.0\\nsamples = 1\\nvalue = [0, 1]'),\n",
       " Text(292.7955719557196, 29.650909090909096, 'X[1] <= 0.1\\ngini = 0.408\\nsamples = 7\\nvalue = [5, 2]'),\n",
       " Text(290.3247232472325, 9.883636363636384, 'gini = 0.444\\nsamples = 3\\nvalue = [1, 2]'),\n",
       " Text(295.2664206642067, 9.883636363636384, 'gini = 0.0\\nsamples = 4\\nvalue = [4, 0]'),\n",
       " Text(300.2081180811808, 49.418181818181836, 'X[12] <= 0.066\\ngini = 0.298\\nsamples = 22\\nvalue = [4, 18]'),\n",
       " Text(297.7372693726938, 29.650909090909096, 'gini = 0.0\\nsamples = 1\\nvalue = [1, 0]'),\n",
       " Text(302.6789667896679, 29.650909090909096, 'X[6] <= 0.63\\ngini = 0.245\\nsamples = 21\\nvalue = [3, 18]'),\n",
       " Text(300.2081180811808, 9.883636363636384, 'gini = 0.105\\nsamples = 18\\nvalue = [1, 17]'),\n",
       " Text(305.149815498155, 9.883636363636384, 'gini = 0.444\\nsamples = 3\\nvalue = [2, 1]'),\n",
       " Text(319.35719557195574, 187.7890909090909, 'X[13] <= 0.707\\ngini = 0.24\\nsamples = 86\\nvalue = [74, 12]'),\n",
       " Text(308.85608856088567, 168.0218181818182, 'X[15] <= 0.553\\ngini = 0.399\\nsamples = 40\\nvalue = [29, 11]'),\n",
       " Text(302.6789667896679, 148.25454545454545, 'X[14] <= 0.283\\ngini = 0.444\\nsamples = 6\\nvalue = [2, 4]'),\n",
       " Text(300.2081180811808, 128.48727272727274, 'gini = 0.0\\nsamples = 2\\nvalue = [2, 0]'),\n",
       " Text(305.149815498155, 128.48727272727274, 'gini = 0.0\\nsamples = 4\\nvalue = [0, 4]'),\n",
       " Text(315.03321033210335, 148.25454545454545, 'X[10] <= 0.357\\ngini = 0.327\\nsamples = 34\\nvalue = [27, 7]'),\n",
       " Text(310.0915129151292, 128.48727272727274, 'X[17] <= 0.093\\ngini = 0.185\\nsamples = 29\\nvalue = [26, 3]'),\n",
       " Text(307.6206642066421, 108.72, 'gini = 0.0\\nsamples = 1\\nvalue = [0, 1]'),\n",
       " Text(312.56236162361625, 108.72, 'X[1] <= 0.576\\ngini = 0.133\\nsamples = 28\\nvalue = [26, 2]'),\n",
       " Text(310.0915129151292, 88.95272727272729, 'X[13] <= 0.701\\ngini = 0.298\\nsamples = 11\\nvalue = [9, 2]'),\n",
       " Text(307.6206642066421, 69.18545454545455, 'X[10] <= 0.324\\ngini = 0.18\\nsamples = 10\\nvalue = [9, 1]'),\n",
       " Text(305.149815498155, 49.418181818181836, 'gini = 0.0\\nsamples = 8\\nvalue = [8, 0]'),\n",
       " Text(310.0915129151292, 49.418181818181836, 'gini = 0.5\\nsamples = 2\\nvalue = [1, 1]'),\n",
       " Text(312.56236162361625, 69.18545454545455, 'gini = 0.0\\nsamples = 1\\nvalue = [0, 1]'),\n",
       " Text(315.03321033210335, 88.95272727272729, 'gini = 0.0\\nsamples = 17\\nvalue = [17, 0]'),\n",
       " Text(319.97490774907754, 128.48727272727274, 'X[2] <= 0.001\\ngini = 0.32\\nsamples = 5\\nvalue = [1, 4]'),\n",
       " Text(317.50405904059045, 108.72, 'gini = 0.0\\nsamples = 1\\nvalue = [1, 0]'),\n",
       " Text(322.4457564575646, 108.72, 'gini = 0.0\\nsamples = 4\\nvalue = [0, 4]'),\n",
       " Text(329.8583025830259, 168.0218181818182, 'X[11] <= 0.567\\ngini = 0.043\\nsamples = 46\\nvalue = [45, 1]'),\n",
       " Text(327.3874538745388, 148.25454545454545, 'X[6] <= 0.671\\ngini = 0.444\\nsamples = 3\\nvalue = [2, 1]'),\n",
       " Text(324.9166051660517, 128.48727272727274, 'gini = 0.0\\nsamples = 2\\nvalue = [2, 0]'),\n",
       " Text(329.8583025830259, 128.48727272727274, 'gini = 0.0\\nsamples = 1\\nvalue = [0, 1]'),\n",
       " Text(332.32915129151297, 148.25454545454545, 'gini = 0.0\\nsamples = 43\\nvalue = [43, 0]')]"
      ]
     },
     "execution_count": 173,
     "metadata": {},
     "output_type": "execute_result"
    },
    {
     "data": {
      "image/png": "[encoded data removed]",
      "text/plain": [
       "<Figure size 432x288 with 1 Axes>"
      ]
     },
     "metadata": {
      "needs_background": "light"
     },
     "output_type": "display_data"
    }
   ],
   "source": [
    "printTree = bestDecisionTree.fit(x_train, y_train)\n",
    "tree.plot_tree(printTree)"
   ]
  },
  {
   "cell_type": "markdown",
   "metadata": {},
   "source": [
    "## Randomized Search Cross Validation demog only"
   ]
  },
  {
   "cell_type": "code",
   "execution_count": 11,
   "metadata": {},
   "outputs": [
    {
     "name": "stdout",
     "output_type": "stream",
     "text": [
      "{'max_depth': [10, 20, 30, 40, 50, 60, 70, 80, 90, 100, 110, None],\n",
      " 'max_features': ['auto', 'sqrt'],\n",
      " 'min_samples_leaf': [1, 2, 4],\n",
      " 'min_samples_split': [2, 5, 10],\n",
      " 'n_estimators': [200, 400, 600, 800, 1000, 1200, 1400, 1600, 1800, 2000]}\n"
     ]
    }
   ],
   "source": [
    "from sklearn.model_selection import RandomizedSearchCV\n",
    "# Number of trees in random forest\n",
    "n_estimators = [int(x) for x in np.linspace(start = 200, stop = 2000, num = 10)]\n",
    "# Number of features to consider at every split\n",
    "max_features = ['auto', 'sqrt']\n",
    "# Maximum number of levels in tree\n",
    "max_depth = [int(x) for x in np.linspace(10, 110, num = 11)]\n",
    "max_depth.append(None)\n",
    "# Minimum number of samples required to split a node\n",
    "min_samples_split = [2, 5, 10]\n",
    "# Minimum number of samples required at each leaf node\n",
    "min_samples_leaf = [1, 2, 4]\n",
    "# Create the random grid\n",
    "random_grid = {'n_estimators': n_estimators,\n",
    "               'max_features': max_features,\n",
    "               'max_depth': max_depth,\n",
    "               'min_samples_split': min_samples_split,\n",
    "               'min_samples_leaf': min_samples_leaf}\n",
    "pprint(random_grid)"
   ]
  },
  {
   "cell_type": "code",
   "execution_count": 13,
   "metadata": {},
   "outputs": [
    {
     "name": "stdout",
     "output_type": "stream",
     "text": [
      "Fitting 3 folds for each of 100 candidates, totalling 300 fits\n"
     ]
    },
    {
     "name": "stderr",
     "output_type": "stream",
     "text": [
      "[Parallel(n_jobs=-1)]: Using backend LokyBackend with 4 concurrent workers.\n",
      "[Parallel(n_jobs=-1)]: Done  33 tasks      | elapsed:  1.7min\n",
      "[Parallel(n_jobs=-1)]: Done 154 tasks      | elapsed:  6.9min\n",
      "[Parallel(n_jobs=-1)]: Done 300 out of 300 | elapsed: 13.4min finished\n"
     ]
    },
    {
     "data": {
      "text/plain": [
       "RandomizedSearchCV(cv=3, estimator=RandomForestClassifier(), n_iter=100,\n",
       "                   n_jobs=-1,\n",
       "                   param_distributions={'max_depth': [10, 20, 30, 40, 50, 60,\n",
       "                                                      70, 80, 90, 100, 110,\n",
       "                                                      None],\n",
       "                                        'max_features': ['auto', 'sqrt'],\n",
       "                                        'min_samples_leaf': [1, 2, 4],\n",
       "                                        'min_samples_split': [2, 5, 10],\n",
       "                                        'n_estimators': [200, 400, 600, 800,\n",
       "                                                         1000, 1200, 1400, 1600,\n",
       "                                                         1800, 2000]},\n",
       "                   random_state=42, verbose=2)"
      ]
     },
     "execution_count": 13,
     "metadata": {},
     "output_type": "execute_result"
    }
   ],
   "source": [
    "# Use the random grid to search for best hyperparameters\n",
    "# First create the base model to tune\n",
    "rf = RandomForestClassifier()\n",
    "# Random search of parameters, using 3 fold cross validation, \n",
    "# search across 100 different combinations, and use all available cores\n",
    "rf_random = RandomizedSearchCV(estimator = rf, param_distributions = random_grid, n_iter = 100, cv = 3, verbose=2, random_state=42, n_jobs = -1)\n",
    "# Fit the random search model\n",
    "rf_random.fit(X_train, Y_train)"
   ]
  },
  {
   "cell_type": "code",
   "execution_count": 14,
   "metadata": {
    "scrolled": false
   },
   "outputs": [
    {
     "data": {
      "text/plain": [
       "{'n_estimators': 1600,\n",
       " 'min_samples_split': 2,\n",
       " 'min_samples_leaf': 1,\n",
       " 'max_features': 'sqrt',\n",
       " 'max_depth': 100}"
      ]
     },
     "execution_count": 14,
     "metadata": {},
     "output_type": "execute_result"
    }
   ],
   "source": [
    "rf_random.best_params_"
   ]
  },
  {
   "cell_type": "code",
   "execution_count": 15,
   "metadata": {},
   "outputs": [
    {
     "name": "stdout",
     "output_type": "stream",
     "text": [
      "Accuracy is:  0.9374337221633086\n"
     ]
    },
    {
     "data": {
      "text/plain": [
       "<matplotlib.axes._subplots.AxesSubplot at 0x20c87e29460>"
      ]
     },
     "execution_count": 15,
     "metadata": {},
     "output_type": "execute_result"
    },
    {
     "data": {
      "image/png": "[encoded data removed]",
      "text/plain": [
       "<Figure size 432x288 with 2 Axes>"
      ]
     },
     "metadata": {
      "needs_background": "light"
     },
     "output_type": "display_data"
    }
   ],
   "source": [
    "best_random = rf_random.best_estimator_\n",
    "\n",
    "random_accuracy = accuracy_score(y_test, best_random.predict(x_test))\n",
    "print('Accuracy is: ', random_accuracy)\n",
    "cm = confusion_matrix(y_test, best_random.predict(x_test))\n",
    "sns.heatmap(cm, annot=True, fmt=\"d\")"
   ]
  },
  {
   "cell_type": "markdown",
   "metadata": {},
   "source": [
    "## Grid Search with Cross Validation demog only"
   ]
  },
  {
   "cell_type": "code",
   "execution_count": 83,
   "metadata": {},
   "outputs": [],
   "source": [
    "# Create the parameter grid based on the results of random search \n",
    "param_grid = {\n",
    "    'max_depth': [30, 50, 100],\n",
    "    'max_features': [3, 5], #['auto', 'sqrt']\n",
    "    'min_samples_leaf': [1, 3],\n",
    "    'min_samples_split': [3, 5, 10],\n",
    "    'n_estimators': [200, 400, 1000]\n",
    "}\n",
    "# Create a based model\n",
    "rf = RandomForestClassifier()\n",
    "# Instantiate the grid search model\n",
    "grid_search = GridSearchCV(estimator = rf, param_grid = param_grid, \n",
    "                          cv = 3, n_jobs = -1, verbose = 2, scoring='balanced_accuracy')"
   ]
  },
  {
   "cell_type": "code",
   "execution_count": 84,
   "metadata": {},
   "outputs": [
    {
     "name": "stdout",
     "output_type": "stream",
     "text": [
      "Fitting 3 folds for each of 108 candidates, totalling 324 fits\n"
     ]
    },
    {
     "name": "stderr",
     "output_type": "stream",
     "text": [
      "[Parallel(n_jobs=-1)]: Using backend LokyBackend with 4 concurrent workers.\n",
      "[Parallel(n_jobs=-1)]: Done  33 tasks      | elapsed:   37.9s\n",
      "[Parallel(n_jobs=-1)]: Done 154 tasks      | elapsed:  3.2min\n",
      "[Parallel(n_jobs=-1)]: Done 324 out of 324 | elapsed:  7.0min finished\n"
     ]
    },
    {
     "data": {
      "text/plain": [
       "{'max_depth': 50,\n",
       " 'max_features': 3,\n",
       " 'min_samples_leaf': 1,\n",
       " 'min_samples_split': 3,\n",
       " 'n_estimators': 200}"
      ]
     },
     "execution_count": 84,
     "metadata": {},
     "output_type": "execute_result"
    }
   ],
   "source": [
    "# Fit the grid search to the data\n",
    "grid_search.fit(X_train, Y_train)\n",
    "grid_search.best_params_"
   ]
  },
  {
   "cell_type": "code",
   "execution_count": 85,
   "metadata": {},
   "outputs": [
    {
     "name": "stdout",
     "output_type": "stream",
     "text": [
      "Accuracy is:  0.9416755037115588\n"
     ]
    },
    {
     "data": {
      "text/plain": [
       "<matplotlib.axes._subplots.AxesSubplot at 0x20c8aef4490>"
      ]
     },
     "execution_count": 85,
     "metadata": {},
     "output_type": "execute_result"
    },
    {
     "data": {
      "image/png": "[encoded data removed]",
      "text/plain": [
       "<Figure size 432x288 with 2 Axes>"
      ]
     },
     "metadata": {
      "needs_background": "light"
     },
     "output_type": "display_data"
    }
   ],
   "source": [
    "best_grid = grid_search.best_estimator_\n",
    "\n",
    "grid_accuracy = accuracy_score(y_test, best_grid.predict(x_test))\n",
    "print('Accuracy is: ', grid_accuracy)\n",
    "cm = confusion_matrix(y_test, best_grid.predict(x_test))\n",
    "sns.heatmap(cm, annot=True, fmt=\"d\")"
   ]
  },
  {
   "cell_type": "code",
   "execution_count": 86,
   "metadata": {},
   "outputs": [
    {
     "name": "stdout",
     "output_type": "stream",
     "text": [
      "              precision    recall  f1-score   support\n",
      "\n",
      "           0    0.84516   0.80864   0.82650       162\n",
      "           1    0.96066   0.96927   0.96495       781\n",
      "\n",
      "    accuracy                        0.94168       943\n",
      "   macro avg    0.90291   0.88896   0.89572       943\n",
      "weighted avg    0.94082   0.94168   0.94116       943\n",
      "\n",
      "roc_auc score: 0.9632870172776276\n",
      "f1 score: [0.82649842 0.96494583]\n"
     ]
    }
   ],
   "source": [
    "y_test_pred_probs = best_grid.predict(x_test)\n",
    "print(classification_report(y_test, y_test_pred_probs, digits=5))\n",
    "\n",
    "print(\"roc_auc score: \" + str(roc_auc_score(y_test, best_grid.predict_proba(x_test)[:,1])))\n",
    "print(\"f1 score: \" + str(f1_score(y_test, y_test_pred_probs, average=None)))"
   ]
  },
  {
   "cell_type": "code",
   "execution_count": 20,
   "metadata": {},
   "outputs": [],
   "source": [
    "from sklearn.model_selection import GridSearchCV\n",
    "# Create the parameter grid based on the results of random search \n",
    "param_grid = {\n",
    "    'max_depth': [100, 120],\n",
    "    'max_features': ['sqrt'], #['auto', 'sqrt']\n",
    "    'min_samples_leaf': [1, 3],\n",
    "    'min_samples_split': [2, 5],\n",
    "    'n_estimators': [1200, 1400, 1600]\n",
    "}\n",
    "# Create a based model\n",
    "rf = RandomForestClassifier()\n",
    "# Instantiate the grid search model\n",
    "grid_search = GridSearchCV(estimator = rf, param_grid = param_grid, \n",
    "                          cv = 3, n_jobs = -1, verbose = 2, scoring='balanced_accuracy')"
   ]
  },
  {
   "cell_type": "code",
   "execution_count": 21,
   "metadata": {},
   "outputs": [
    {
     "data": {
      "text/plain": [
       "{'max_depth': 100,\n",
       " 'max_features': 'sqrt',\n",
       " 'min_samples_leaf': 1,\n",
       " 'min_samples_split': 2,\n",
       " 'n_estimators': 1400}"
      ]
     },
     "execution_count": 21,
     "metadata": {},
     "output_type": "execute_result"
    }
   ],
   "source": [
    "# Fit the grid search to the data\n",
    "grid_search.fit(X_train, Y_train)\n",
    "grid_search.best_params_"
   ]
  },
  {
   "cell_type": "code",
   "execution_count": 22,
   "metadata": {},
   "outputs": [
    {
     "name": "stdout",
     "output_type": "stream",
     "text": [
      "Accuracy is:  0.9374337221633086\n"
     ]
    },
    {
     "data": {
      "text/plain": [
       "<matplotlib.axes._subplots.AxesSubplot at 0x20c89e9b280>"
      ]
     },
     "execution_count": 22,
     "metadata": {},
     "output_type": "execute_result"
    },
    {
     "data": {
      "image/png": "[encoded data removed]",
      "text/plain": [
       "<Figure size 432x288 with 2 Axes>"
      ]
     },
     "metadata": {
      "needs_background": "light"
     },
     "output_type": "display_data"
    }
   ],
   "source": [
    "best_grid = grid_search.best_estimator_\n",
    "\n",
    "grid_accuracy = accuracy_score(y_test, best_grid.predict(x_test))\n",
    "print('Accuracy is: ', grid_accuracy)\n",
    "cm = confusion_matrix(y_test, best_grid.predict(x_test))\n",
    "sns.heatmap(cm, annot=True, fmt=\"d\")"
   ]
  },
  {
   "cell_type": "code",
   "execution_count": 23,
   "metadata": {},
   "outputs": [
    {
     "name": "stdout",
     "output_type": "stream",
     "text": [
      "              precision    recall  f1-score   support\n",
      "\n",
      "           0    0.81988   0.81481   0.81734       162\n",
      "           1    0.96164   0.96287   0.96225       781\n",
      "\n",
      "    accuracy                        0.93743       943\n",
      "   macro avg    0.89076   0.88884   0.88979       943\n",
      "weighted avg    0.93728   0.93743   0.93736       943\n",
      "\n",
      "roc_auc score: 0.962603341711323\n",
      "f1 score: [0.81733746 0.96225208]\n"
     ]
    }
   ],
   "source": [
    "y_test_pred_probs = best_grid.predict(x_test)\n",
    "print(classification_report(y_test, y_test_pred_probs, digits=5))\n",
    "\n",
    "print(\"roc_auc score: \" + str(roc_auc_score(y_test, best_grid.predict_proba(x_test)[:,1])))\n",
    "print(\"f1 score: \" + str(f1_score(y_test, y_test_pred_probs, average=None)))"
   ]
  },
  {
   "cell_type": "markdown",
   "metadata": {},
   "source": [
    "## Baseline Model with Sentiment"
   ]
  },
  {
   "cell_type": "code",
   "execution_count": 174,
   "metadata": {
    "scrolled": false
   },
   "outputs": [
    {
     "data": {
      "text/html": [
       "<div>\n",
       "<style scoped>\n",
       "    .dataframe tbody tr th:only-of-type {\n",
       "        vertical-align: middle;\n",
       "    }\n",
       "\n",
       "    .dataframe tbody tr th {\n",
       "        vertical-align: top;\n",
       "    }\n",
       "\n",
       "    .dataframe thead th {\n",
       "        text-align: right;\n",
       "    }\n",
       "</style>\n",
       "<table border=\"1\" class=\"dataframe\">\n",
       "  <thead>\n",
       "    <tr style=\"text-align: right;\">\n",
       "      <th></th>\n",
       "      <th>White (Not Latino) Population</th>\n",
       "      <th>African American Population</th>\n",
       "      <th>Native American Population</th>\n",
       "      <th>Asian American Population</th>\n",
       "      <th>Other Race or Races</th>\n",
       "      <th>Latino Population</th>\n",
       "      <th>Gini.Coefficient</th>\n",
       "      <th>Management.professional.and.related.occupations</th>\n",
       "      <th>Production.transportation.and.material.moving.occupations</th>\n",
       "      <th>Poor.physical.health.days</th>\n",
       "      <th>...</th>\n",
       "      <th>Teen.births</th>\n",
       "      <th>Children.in.single.parent.households</th>\n",
       "      <th>Adult.smoking</th>\n",
       "      <th>Adult.obesity</th>\n",
       "      <th>Diabetes</th>\n",
       "      <th>Sexually.transmitted.infections</th>\n",
       "      <th>Uninsured</th>\n",
       "      <th>Violent.crime</th>\n",
       "      <th>tSentiment</th>\n",
       "      <th>cSentiment</th>\n",
       "    </tr>\n",
       "  </thead>\n",
       "  <tbody>\n",
       "    <tr>\n",
       "      <th>0</th>\n",
       "      <td>0.831954</td>\n",
       "      <td>0.004646</td>\n",
       "      <td>0.083650</td>\n",
       "      <td>0.005855</td>\n",
       "      <td>0.108392</td>\n",
       "      <td>0.026248</td>\n",
       "      <td>0.463470</td>\n",
       "      <td>0.552174</td>\n",
       "      <td>0.114286</td>\n",
       "      <td>0.224719</td>\n",
       "      <td>...</td>\n",
       "      <td>0.319198</td>\n",
       "      <td>0.249047</td>\n",
       "      <td>0.229167</td>\n",
       "      <td>0.474138</td>\n",
       "      <td>0.310559</td>\n",
       "      <td>0.058300</td>\n",
       "      <td>0.585082</td>\n",
       "      <td>0.271977</td>\n",
       "      <td>-0.059051</td>\n",
       "      <td>-0.07589</td>\n",
       "    </tr>\n",
       "    <tr>\n",
       "      <th>1</th>\n",
       "      <td>0.398656</td>\n",
       "      <td>0.001742</td>\n",
       "      <td>0.425312</td>\n",
       "      <td>0.067916</td>\n",
       "      <td>0.256119</td>\n",
       "      <td>0.022131</td>\n",
       "      <td>0.388128</td>\n",
       "      <td>0.473913</td>\n",
       "      <td>0.106960</td>\n",
       "      <td>0.306081</td>\n",
       "      <td>...</td>\n",
       "      <td>0.319198</td>\n",
       "      <td>0.426938</td>\n",
       "      <td>0.378701</td>\n",
       "      <td>0.531609</td>\n",
       "      <td>0.329193</td>\n",
       "      <td>0.116776</td>\n",
       "      <td>0.645688</td>\n",
       "      <td>0.129210</td>\n",
       "      <td>-0.059051</td>\n",
       "      <td>-0.07589</td>\n",
       "    </tr>\n",
       "    <tr>\n",
       "      <th>2</th>\n",
       "      <td>0.095657</td>\n",
       "      <td>0.095819</td>\n",
       "      <td>0.243889</td>\n",
       "      <td>0.970726</td>\n",
       "      <td>0.090909</td>\n",
       "      <td>0.112198</td>\n",
       "      <td>0.438356</td>\n",
       "      <td>0.000000</td>\n",
       "      <td>1.000000</td>\n",
       "      <td>0.202247</td>\n",
       "      <td>...</td>\n",
       "      <td>0.463975</td>\n",
       "      <td>0.500635</td>\n",
       "      <td>0.731250</td>\n",
       "      <td>0.551724</td>\n",
       "      <td>0.273292</td>\n",
       "      <td>0.090651</td>\n",
       "      <td>1.000000</td>\n",
       "      <td>0.129210</td>\n",
       "      <td>-0.059051</td>\n",
       "      <td>-0.07589</td>\n",
       "    </tr>\n",
       "    <tr>\n",
       "      <th>3</th>\n",
       "      <td>0.634436</td>\n",
       "      <td>0.009292</td>\n",
       "      <td>0.210212</td>\n",
       "      <td>0.083138</td>\n",
       "      <td>0.131119</td>\n",
       "      <td>0.050437</td>\n",
       "      <td>0.408676</td>\n",
       "      <td>0.498261</td>\n",
       "      <td>0.099634</td>\n",
       "      <td>0.224719</td>\n",
       "      <td>...</td>\n",
       "      <td>0.182898</td>\n",
       "      <td>0.402795</td>\n",
       "      <td>0.379167</td>\n",
       "      <td>0.433908</td>\n",
       "      <td>0.260870</td>\n",
       "      <td>0.130144</td>\n",
       "      <td>0.517483</td>\n",
       "      <td>0.125592</td>\n",
       "      <td>-0.059051</td>\n",
       "      <td>-0.07589</td>\n",
       "    </tr>\n",
       "    <tr>\n",
       "      <th>4</th>\n",
       "      <td>0.701655</td>\n",
       "      <td>0.002323</td>\n",
       "      <td>0.158066</td>\n",
       "      <td>0.069087</td>\n",
       "      <td>0.177448</td>\n",
       "      <td>0.018013</td>\n",
       "      <td>0.349315</td>\n",
       "      <td>0.490435</td>\n",
       "      <td>0.171429</td>\n",
       "      <td>0.306081</td>\n",
       "      <td>...</td>\n",
       "      <td>0.319198</td>\n",
       "      <td>0.401399</td>\n",
       "      <td>0.378701</td>\n",
       "      <td>0.501554</td>\n",
       "      <td>0.460293</td>\n",
       "      <td>0.116776</td>\n",
       "      <td>0.347015</td>\n",
       "      <td>0.129210</td>\n",
       "      <td>-0.059051</td>\n",
       "      <td>-0.07589</td>\n",
       "    </tr>\n",
       "  </tbody>\n",
       "</table>\n",
       "<p>5 rows × 22 columns</p>\n",
       "</div>"
      ],
      "text/plain": [
       "   White (Not Latino) Population  African American Population  \\\n",
       "0                       0.831954                     0.004646   \n",
       "1                       0.398656                     0.001742   \n",
       "2                       0.095657                     0.095819   \n",
       "3                       0.634436                     0.009292   \n",
       "4                       0.701655                     0.002323   \n",
       "\n",
       "   Native American Population  Asian American Population  Other Race or Races  \\\n",
       "0                    0.083650                   0.005855             0.108392   \n",
       "1                    0.425312                   0.067916             0.256119   \n",
       "2                    0.243889                   0.970726             0.090909   \n",
       "3                    0.210212                   0.083138             0.131119   \n",
       "4                    0.158066                   0.069087             0.177448   \n",
       "\n",
       "   Latino Population  Gini.Coefficient  \\\n",
       "0           0.026248          0.463470   \n",
       "1           0.022131          0.388128   \n",
       "2           0.112198          0.438356   \n",
       "3           0.050437          0.408676   \n",
       "4           0.018013          0.349315   \n",
       "\n",
       "   Management.professional.and.related.occupations  \\\n",
       "0                                         0.552174   \n",
       "1                                         0.473913   \n",
       "2                                         0.000000   \n",
       "3                                         0.498261   \n",
       "4                                         0.490435   \n",
       "\n",
       "   Production.transportation.and.material.moving.occupations  \\\n",
       "0                                           0.114286           \n",
       "1                                           0.106960           \n",
       "2                                           1.000000           \n",
       "3                                           0.099634           \n",
       "4                                           0.171429           \n",
       "\n",
       "   Poor.physical.health.days  ...  Teen.births  \\\n",
       "0                   0.224719  ...     0.319198   \n",
       "1                   0.306081  ...     0.319198   \n",
       "2                   0.202247  ...     0.463975   \n",
       "3                   0.224719  ...     0.182898   \n",
       "4                   0.306081  ...     0.319198   \n",
       "\n",
       "   Children.in.single.parent.households  Adult.smoking  Adult.obesity  \\\n",
       "0                              0.249047       0.229167       0.474138   \n",
       "1                              0.426938       0.378701       0.531609   \n",
       "2                              0.500635       0.731250       0.551724   \n",
       "3                              0.402795       0.379167       0.433908   \n",
       "4                              0.401399       0.378701       0.501554   \n",
       "\n",
       "   Diabetes  Sexually.transmitted.infections  Uninsured  Violent.crime  \\\n",
       "0  0.310559                         0.058300   0.585082       0.271977   \n",
       "1  0.329193                         0.116776   0.645688       0.129210   \n",
       "2  0.273292                         0.090651   1.000000       0.129210   \n",
       "3  0.260870                         0.130144   0.517483       0.125592   \n",
       "4  0.460293                         0.116776   0.347015       0.129210   \n",
       "\n",
       "   tSentiment  cSentiment  \n",
       "0   -0.059051    -0.07589  \n",
       "1   -0.059051    -0.07589  \n",
       "2   -0.059051    -0.07589  \n",
       "3   -0.059051    -0.07589  \n",
       "4   -0.059051    -0.07589  \n",
       "\n",
       "[5 rows x 22 columns]"
      ]
     },
     "execution_count": 174,
     "metadata": {},
     "output_type": "execute_result"
    }
   ],
   "source": [
    "# y includes our labels and x includes our features\n",
    "y = df.CountyOutcome                          \n",
    "x = df.drop(['CountyOutcome','Unnamed: 0'], axis=1)\n",
    "x.head()"
   ]
  },
  {
   "cell_type": "code",
   "execution_count": 175,
   "metadata": {},
   "outputs": [],
   "source": [
    "# split data train 70 % and test 30 %\n",
    "x_train, x_test, y_train, y_test = train_test_split(x, y, test_size=0.3, random_state=42)"
   ]
  },
  {
   "cell_type": "code",
   "execution_count": 176,
   "metadata": {},
   "outputs": [
    {
     "name": "stdout",
     "output_type": "stream",
     "text": [
      "Class=0, n=1875 (59.675%)\n",
      "Class=1, n=1875 (59.675%)\n"
     ]
    },
    {
     "data": {
      "image/png": "[encoded data removed]",
      "text/plain": [
       "<Figure size 432x288 with 1 Axes>"
      ]
     },
     "metadata": {
      "needs_background": "light"
     },
     "output_type": "display_data"
    }
   ],
   "source": [
    "#oversample = RandomOverSampler(sampling_strategy='minority')\n",
    "#oversample = RandomOverSampler(sampling_strategy=0.5)\n",
    "oversample = SMOTE(random_state=42)\n",
    "X_train, Y_train = oversample.fit_resample(x_train, y_train)\n",
    "counter = Counter(Y_train)\n",
    "for k,v in counter.items():\n",
    "\tper = v / len(y) * 100\n",
    "\tprint('Class=%s, n=%d (%.3f%%)' % (k, v, per))\n",
    "# plot the distribution\n",
    "plt.bar(counter.keys(), counter.values(), color=['red', 'blue'])\n",
    "plt.title(\"SMOTE sampling results\")\n",
    "plt.show()"
   ]
  },
  {
   "cell_type": "code",
   "execution_count": 177,
   "metadata": {},
   "outputs": [
    {
     "name": "stdout",
     "output_type": "stream",
     "text": [
      "Accuracy is:  0.9406150583244963\n"
     ]
    },
    {
     "data": {
      "text/plain": [
       "Text(0.5, 15.0, 'Predicted')"
      ]
     },
     "execution_count": 177,
     "metadata": {},
     "output_type": "execute_result"
    },
    {
     "data": {
      "image/png": "[encoded data removed]",
      "text/plain": [
       "<Figure size 432x288 with 2 Axes>"
      ]
     },
     "metadata": {
      "needs_background": "light"
     },
     "output_type": "display_data"
    }
   ],
   "source": [
    "#random forest classifier with n_estimators=10 (default)\n",
    "clf_rf = RandomForestClassifier(random_state=43)      \n",
    "clr_rf_OS = clf_rf.fit(X_train,Y_train)\n",
    "\n",
    "# Results - ROC Curve\n",
    "y_test_pred_probs_OS = clr_rf_OS.predict(x_test)\n",
    "ac = accuracy_score(y_test, y_test_pred_probs_OS)\n",
    "print('Accuracy is: ',ac)\n",
    "cm = confusion_matrix(y_test, y_test_pred_probs_OS)\n",
    "sns.heatmap(cm,annot=True,fmt=\"d\")\n",
    "plt.ylabel('Actual')\n",
    "plt.xlabel('Predicted')"
   ]
  },
  {
   "cell_type": "code",
   "execution_count": 181,
   "metadata": {},
   "outputs": [
    {
     "data": {
      "image/png": "[encoded data removed]",
      "text/plain": [
       "<Figure size 432x288 with 1 Axes>"
      ]
     },
     "metadata": {
      "needs_background": "light"
     },
     "output_type": "display_data"
    }
   ],
   "source": [
    "features = x.columns\n",
    "importances = clr_rf_OS.feature_importances_\n",
    "indices = np.argsort(importances)\n",
    "\n",
    "plt.title('Feature Importances incl. Sentiment')\n",
    "plt.barh(range(len(indices)), importances[indices], color='tab:cyan', align='center')\n",
    "plt.yticks(range(len(indices)), [features[i] for i in indices])\n",
    "plt.xlabel('Relative Importance')\n",
    "plt.show()"
   ]
  },
  {
   "cell_type": "code",
   "execution_count": 28,
   "metadata": {},
   "outputs": [
    {
     "name": "stdout",
     "output_type": "stream",
     "text": [
      "              precision    recall  f1-score   support\n",
      "\n",
      "           0    0.83544   0.81481   0.82500       162\n",
      "           1    0.96178   0.96671   0.96424       781\n",
      "\n",
      "    accuracy                        0.94062       943\n",
      "   macro avg    0.89861   0.89076   0.89462       943\n",
      "weighted avg    0.94008   0.94062   0.94032       943\n",
      "\n",
      "roc_auc score: 0.9610383964844059\n",
      "f1 score: [0.825     0.9642401]\n"
     ]
    }
   ],
   "source": [
    "print(classification_report(y_test, y_test_pred_probs_OS, digits=5))\n",
    "\n",
    "print(\"roc_auc score: \" + str(roc_auc_score(y_test, clr_rf_OS.predict_proba(x_test)[:,1])))\n",
    "print(\"f1 score: \" + str(f1_score(y_test, y_test_pred_probs_OS, average=None)))"
   ]
  },
  {
   "cell_type": "markdown",
   "metadata": {},
   "source": [
    "## Randomized Search Cross Validation with sentiment"
   ]
  },
  {
   "cell_type": "code",
   "execution_count": 30,
   "metadata": {},
   "outputs": [
    {
     "name": "stdout",
     "output_type": "stream",
     "text": [
      "{'max_depth': [10, 20, 30, 40, 50, 60, 70, 80, 90, 100, 110, None],\n",
      " 'max_features': ['auto', 'sqrt'],\n",
      " 'min_samples_leaf': [1, 2, 4],\n",
      " 'min_samples_split': [2, 5, 10],\n",
      " 'n_estimators': [200, 400, 600, 800, 1000, 1200, 1400, 1600, 1800, 2000]}\n"
     ]
    }
   ],
   "source": [
    "# x_train, x_test, y_train, y_test = train_test_split(x, y, test_size=0.3, random_state=42)\n",
    "\n",
    "from sklearn.model_selection import RandomizedSearchCV\n",
    "# Number of trees in random forest\n",
    "n_estimators = [int(x) for x in np.linspace(start = 200, stop = 2000, num = 10)]\n",
    "# Number of features to consider at every split\n",
    "max_features = ['auto', 'sqrt']\n",
    "# Maximum number of levels in tree\n",
    "max_depth = [int(x) for x in np.linspace(10, 110, num = 11)]\n",
    "max_depth.append(None)\n",
    "# Minimum number of samples required to split a node\n",
    "min_samples_split = [2, 5, 10]\n",
    "# Minimum number of samples required at each leaf node\n",
    "min_samples_leaf = [1, 2, 4]\n",
    "# Create the random grid\n",
    "random_grid = {'n_estimators': n_estimators,\n",
    "               'max_features': max_features,\n",
    "               'max_depth': max_depth,\n",
    "               'min_samples_split': min_samples_split,\n",
    "               'min_samples_leaf': min_samples_leaf}\n",
    "pprint(random_grid)"
   ]
  },
  {
   "cell_type": "code",
   "execution_count": 31,
   "metadata": {},
   "outputs": [
    {
     "name": "stdout",
     "output_type": "stream",
     "text": [
      "Fitting 3 folds for each of 100 candidates, totalling 300 fits\n"
     ]
    },
    {
     "name": "stderr",
     "output_type": "stream",
     "text": [
      "[Parallel(n_jobs=-1)]: Using backend LokyBackend with 4 concurrent workers.\n",
      "[Parallel(n_jobs=-1)]: Done  33 tasks      | elapsed:  1.9min\n",
      "[Parallel(n_jobs=-1)]: Done 154 tasks      | elapsed:  6.7min\n",
      "[Parallel(n_jobs=-1)]: Done 300 out of 300 | elapsed: 14.1min finished\n"
     ]
    },
    {
     "data": {
      "text/plain": [
       "RandomizedSearchCV(cv=3, estimator=RandomForestClassifier(), n_iter=100,\n",
       "                   n_jobs=-1,\n",
       "                   param_distributions={'max_depth': [10, 20, 30, 40, 50, 60,\n",
       "                                                      70, 80, 90, 100, 110,\n",
       "                                                      None],\n",
       "                                        'max_features': ['auto', 'sqrt'],\n",
       "                                        'min_samples_leaf': [1, 2, 4],\n",
       "                                        'min_samples_split': [2, 5, 10],\n",
       "                                        'n_estimators': [200, 400, 600, 800,\n",
       "                                                         1000, 1200, 1400, 1600,\n",
       "                                                         1800, 2000]},\n",
       "                   random_state=42, verbose=2)"
      ]
     },
     "execution_count": 31,
     "metadata": {},
     "output_type": "execute_result"
    }
   ],
   "source": [
    "# Use the random grid to search for best hyperparameters\n",
    "# First create the base model to tune\n",
    "rf = RandomForestClassifier()\n",
    "# Random search of parameters, using 3 fold cross validation, \n",
    "# search across 100 different combinations, and use all available cores\n",
    "rf_random = RandomizedSearchCV(estimator = rf, param_distributions = random_grid, n_iter = 100, cv = 3, verbose=2, random_state=42, n_jobs = -1)\n",
    "# Fit the random search model\n",
    "rf_random.fit(X_train, Y_train)"
   ]
  },
  {
   "cell_type": "code",
   "execution_count": 32,
   "metadata": {
    "scrolled": false
   },
   "outputs": [
    {
     "data": {
      "text/plain": [
       "{'n_estimators': 400,\n",
       " 'min_samples_split': 2,\n",
       " 'min_samples_leaf': 1,\n",
       " 'max_features': 'auto',\n",
       " 'max_depth': 30}"
      ]
     },
     "execution_count": 32,
     "metadata": {},
     "output_type": "execute_result"
    }
   ],
   "source": [
    "rf_random.best_params_"
   ]
  },
  {
   "cell_type": "code",
   "execution_count": 33,
   "metadata": {},
   "outputs": [
    {
     "name": "stdout",
     "output_type": "stream",
     "text": [
      "Accuracy is:  0.9406150583244963\n"
     ]
    },
    {
     "data": {
      "text/plain": [
       "<matplotlib.axes._subplots.AxesSubplot at 0x20c8cfdde20>"
      ]
     },
     "execution_count": 33,
     "metadata": {},
     "output_type": "execute_result"
    },
    {
     "data": {
      "image/png": "[encoded data removed]",
      "text/plain": [
       "<Figure size 432x288 with 2 Axes>"
      ]
     },
     "metadata": {
      "needs_background": "light"
     },
     "output_type": "display_data"
    }
   ],
   "source": [
    "best_random = rf_random.best_estimator_\n",
    "\n",
    "random_accuracy = accuracy_score(y_test, best_random.predict(x_test))\n",
    "print('Accuracy is: ', random_accuracy)\n",
    "cm = confusion_matrix(y_test, best_random.predict(x_test))\n",
    "sns.heatmap(cm, annot=True, fmt=\"d\")"
   ]
  },
  {
   "cell_type": "markdown",
   "metadata": {},
   "source": [
    "## Grid Search with Cross Validation with sentiment"
   ]
  },
  {
   "cell_type": "code",
   "execution_count": 38,
   "metadata": {},
   "outputs": [],
   "source": [
    "# Create the parameter grid based on the results of random search \n",
    "param_grid = {\n",
    "    'max_depth': [30, 40, 50],\n",
    "    'max_features': ['auto'], #['auto', 'sqrt']\n",
    "    'min_samples_leaf': [1, 3],\n",
    "    'min_samples_split': [3, 5, 10],\n",
    "    'n_estimators': [100, 200, 400]\n",
    "}\n",
    "# Create a based model\n",
    "rf = RandomForestClassifier()\n",
    "# Instantiate the grid search model\n",
    "grid_search = GridSearchCV(estimator = rf, param_grid = param_grid, \n",
    "                          cv = 3, n_jobs = -1, verbose = 2, scoring='balanced_accuracy')"
   ]
  },
  {
   "cell_type": "code",
   "execution_count": 39,
   "metadata": {},
   "outputs": [
    {
     "name": "stdout",
     "output_type": "stream",
     "text": [
      "Fitting 3 folds for each of 54 candidates, totalling 162 fits\n"
     ]
    },
    {
     "name": "stderr",
     "output_type": "stream",
     "text": [
      "[Parallel(n_jobs=-1)]: Using backend LokyBackend with 4 concurrent workers.\n",
      "[Parallel(n_jobs=-1)]: Done  33 tasks      | elapsed:   18.1s\n",
      "[Parallel(n_jobs=-1)]: Done 154 tasks      | elapsed:  1.4min\n",
      "[Parallel(n_jobs=-1)]: Done 162 out of 162 | elapsed:  1.5min finished\n"
     ]
    },
    {
     "data": {
      "text/plain": [
       "{'max_depth': 50,\n",
       " 'max_features': 'auto',\n",
       " 'min_samples_leaf': 1,\n",
       " 'min_samples_split': 3,\n",
       " 'n_estimators': 400}"
      ]
     },
     "execution_count": 39,
     "metadata": {},
     "output_type": "execute_result"
    }
   ],
   "source": [
    "# Fit the grid search to the data\n",
    "grid_search.fit(X_train, Y_train)\n",
    "grid_search.best_params_"
   ]
  },
  {
   "cell_type": "code",
   "execution_count": 40,
   "metadata": {},
   "outputs": [
    {
     "name": "stdout",
     "output_type": "stream",
     "text": [
      "Accuracy is:  0.9416755037115588\n"
     ]
    },
    {
     "data": {
      "text/plain": [
       "<matplotlib.axes._subplots.AxesSubplot at 0x20c8af16880>"
      ]
     },
     "execution_count": 40,
     "metadata": {},
     "output_type": "execute_result"
    },
    {
     "data": {
      "image/png": "[encoded data removed]",
      "text/plain": [
       "<Figure size 432x288 with 2 Axes>"
      ]
     },
     "metadata": {
      "needs_background": "light"
     },
     "output_type": "display_data"
    }
   ],
   "source": [
    "best_grid = grid_search.best_estimator_\n",
    "\n",
    "grid_accuracy = accuracy_score(y_test, best_grid.predict(x_test))\n",
    "print('Accuracy is: ', grid_accuracy)\n",
    "cm = confusion_matrix(y_test, best_grid.predict(x_test))\n",
    "sns.heatmap(cm, annot=True, fmt=\"d\")"
   ]
  },
  {
   "cell_type": "code",
   "execution_count": 41,
   "metadata": {},
   "outputs": [
    {
     "name": "stdout",
     "output_type": "stream",
     "text": [
      "              precision    recall  f1-score   support\n",
      "\n",
      "           0    0.84076   0.81481   0.82759       162\n",
      "           1    0.96183   0.96799   0.96490       781\n",
      "\n",
      "    accuracy                        0.94168       943\n",
      "   macro avg    0.90130   0.89140   0.89624       943\n",
      "weighted avg    0.94103   0.94168   0.94131       943\n",
      "\n",
      "roc_auc score: 0.9623978438532429\n",
      "f1 score: [0.82758621 0.96490108]\n"
     ]
    }
   ],
   "source": [
    "from sklearn.metrics import classification_report\n",
    "y_test_pred_probs = best_grid.predict(x_test)\n",
    "print(classification_report(y_test, y_test_pred_probs, digits=5))\n",
    "\n",
    "print(\"roc_auc score: \" + str(roc_auc_score(y_test, best_grid.predict_proba(x_test)[:,1])))\n",
    "print(\"f1 score: \" + str(f1_score(y_test, y_test_pred_probs, average=None)))"
   ]
  },
  {
   "cell_type": "markdown",
   "metadata": {},
   "source": [
    "## With RFE"
   ]
  },
  {
   "cell_type": "code",
   "execution_count": 42,
   "metadata": {
    "scrolled": false
   },
   "outputs": [
    {
     "data": {
      "text/html": [
       "<div>\n",
       "<style scoped>\n",
       "    .dataframe tbody tr th:only-of-type {\n",
       "        vertical-align: middle;\n",
       "    }\n",
       "\n",
       "    .dataframe tbody tr th {\n",
       "        vertical-align: top;\n",
       "    }\n",
       "\n",
       "    .dataframe thead th {\n",
       "        text-align: right;\n",
       "    }\n",
       "</style>\n",
       "<table border=\"1\" class=\"dataframe\">\n",
       "  <thead>\n",
       "    <tr style=\"text-align: right;\">\n",
       "      <th></th>\n",
       "      <th>Unnamed: 0</th>\n",
       "      <th>CountyOutcome</th>\n",
       "      <th>Less Than High School Diploma</th>\n",
       "      <th>At Least High School Diploma</th>\n",
       "      <th>At Least Bachelors's Degree</th>\n",
       "      <th>Graduate Degree</th>\n",
       "      <th>School Enrollment</th>\n",
       "      <th>Median Earnings 2010</th>\n",
       "      <th>White (Not Latino) Population</th>\n",
       "      <th>African American Population</th>\n",
       "      <th>...</th>\n",
       "      <th>Adult.smoking</th>\n",
       "      <th>Adult.obesity</th>\n",
       "      <th>Diabetes</th>\n",
       "      <th>Sexually.transmitted.infections</th>\n",
       "      <th>Uninsured</th>\n",
       "      <th>Unemployment</th>\n",
       "      <th>Violent.crime</th>\n",
       "      <th>Injury.deaths</th>\n",
       "      <th>tSentiment</th>\n",
       "      <th>cSentiment</th>\n",
       "    </tr>\n",
       "  </thead>\n",
       "  <tbody>\n",
       "    <tr>\n",
       "      <th>0</th>\n",
       "      <td>0</td>\n",
       "      <td>1</td>\n",
       "      <td>0.103113</td>\n",
       "      <td>0.923631</td>\n",
       "      <td>0.436850</td>\n",
       "      <td>0.288177</td>\n",
       "      <td>0.8590</td>\n",
       "      <td>0.387625</td>\n",
       "      <td>0.831954</td>\n",
       "      <td>0.004646</td>\n",
       "      <td>...</td>\n",
       "      <td>0.229167</td>\n",
       "      <td>0.474138</td>\n",
       "      <td>0.310559</td>\n",
       "      <td>0.058300</td>\n",
       "      <td>0.585082</td>\n",
       "      <td>0.265455</td>\n",
       "      <td>0.271977</td>\n",
       "      <td>0.177474</td>\n",
       "      <td>-0.059051</td>\n",
       "      <td>-0.07589</td>\n",
       "    </tr>\n",
       "    <tr>\n",
       "      <th>1</th>\n",
       "      <td>1</td>\n",
       "      <td>1</td>\n",
       "      <td>0.171206</td>\n",
       "      <td>0.873199</td>\n",
       "      <td>0.210996</td>\n",
       "      <td>0.113300</td>\n",
       "      <td>0.8555</td>\n",
       "      <td>0.601213</td>\n",
       "      <td>0.398656</td>\n",
       "      <td>0.001742</td>\n",
       "      <td>...</td>\n",
       "      <td>0.378701</td>\n",
       "      <td>0.531609</td>\n",
       "      <td>0.329193</td>\n",
       "      <td>0.116776</td>\n",
       "      <td>0.645688</td>\n",
       "      <td>0.309091</td>\n",
       "      <td>0.129210</td>\n",
       "      <td>0.177474</td>\n",
       "      <td>-0.059051</td>\n",
       "      <td>-0.07589</td>\n",
       "    </tr>\n",
       "    <tr>\n",
       "      <th>2</th>\n",
       "      <td>2</td>\n",
       "      <td>1</td>\n",
       "      <td>0.684825</td>\n",
       "      <td>0.492795</td>\n",
       "      <td>0.087667</td>\n",
       "      <td>0.012315</td>\n",
       "      <td>0.5150</td>\n",
       "      <td>0.366759</td>\n",
       "      <td>0.095657</td>\n",
       "      <td>0.095819</td>\n",
       "      <td>...</td>\n",
       "      <td>0.731250</td>\n",
       "      <td>0.551724</td>\n",
       "      <td>0.273292</td>\n",
       "      <td>0.090651</td>\n",
       "      <td>1.000000</td>\n",
       "      <td>0.429091</td>\n",
       "      <td>0.129210</td>\n",
       "      <td>0.177474</td>\n",
       "      <td>-0.059051</td>\n",
       "      <td>-0.07589</td>\n",
       "    </tr>\n",
       "    <tr>\n",
       "      <th>3</th>\n",
       "      <td>3</td>\n",
       "      <td>1</td>\n",
       "      <td>0.136187</td>\n",
       "      <td>0.899135</td>\n",
       "      <td>0.378900</td>\n",
       "      <td>0.270936</td>\n",
       "      <td>0.7160</td>\n",
       "      <td>0.582521</td>\n",
       "      <td>0.634436</td>\n",
       "      <td>0.009292</td>\n",
       "      <td>...</td>\n",
       "      <td>0.379167</td>\n",
       "      <td>0.433908</td>\n",
       "      <td>0.260870</td>\n",
       "      <td>0.130144</td>\n",
       "      <td>0.517483</td>\n",
       "      <td>0.174545</td>\n",
       "      <td>0.125592</td>\n",
       "      <td>0.284610</td>\n",
       "      <td>-0.059051</td>\n",
       "      <td>-0.07589</td>\n",
       "    </tr>\n",
       "    <tr>\n",
       "      <th>4</th>\n",
       "      <td>4</td>\n",
       "      <td>1</td>\n",
       "      <td>0.073930</td>\n",
       "      <td>0.945245</td>\n",
       "      <td>0.352155</td>\n",
       "      <td>0.258621</td>\n",
       "      <td>0.8050</td>\n",
       "      <td>0.575652</td>\n",
       "      <td>0.701655</td>\n",
       "      <td>0.002323</td>\n",
       "      <td>...</td>\n",
       "      <td>0.378701</td>\n",
       "      <td>0.501554</td>\n",
       "      <td>0.460293</td>\n",
       "      <td>0.116776</td>\n",
       "      <td>0.347015</td>\n",
       "      <td>0.251052</td>\n",
       "      <td>0.129210</td>\n",
       "      <td>0.177474</td>\n",
       "      <td>-0.059051</td>\n",
       "      <td>-0.07589</td>\n",
       "    </tr>\n",
       "  </tbody>\n",
       "</table>\n",
       "<p>5 rows × 43 columns</p>\n",
       "</div>"
      ],
      "text/plain": [
       "   Unnamed: 0  CountyOutcome  Less Than High School Diploma  \\\n",
       "0           0              1                       0.103113   \n",
       "1           1              1                       0.171206   \n",
       "2           2              1                       0.684825   \n",
       "3           3              1                       0.136187   \n",
       "4           4              1                       0.073930   \n",
       "\n",
       "   At Least High School Diploma  At Least Bachelors's Degree  Graduate Degree  \\\n",
       "0                      0.923631                     0.436850         0.288177   \n",
       "1                      0.873199                     0.210996         0.113300   \n",
       "2                      0.492795                     0.087667         0.012315   \n",
       "3                      0.899135                     0.378900         0.270936   \n",
       "4                      0.945245                     0.352155         0.258621   \n",
       "\n",
       "   School Enrollment  Median Earnings 2010  White (Not Latino) Population  \\\n",
       "0             0.8590              0.387625                       0.831954   \n",
       "1             0.8555              0.601213                       0.398656   \n",
       "2             0.5150              0.366759                       0.095657   \n",
       "3             0.7160              0.582521                       0.634436   \n",
       "4             0.8050              0.575652                       0.701655   \n",
       "\n",
       "   African American Population  ...  Adult.smoking  Adult.obesity  Diabetes  \\\n",
       "0                     0.004646  ...       0.229167       0.474138  0.310559   \n",
       "1                     0.001742  ...       0.378701       0.531609  0.329193   \n",
       "2                     0.095819  ...       0.731250       0.551724  0.273292   \n",
       "3                     0.009292  ...       0.379167       0.433908  0.260870   \n",
       "4                     0.002323  ...       0.378701       0.501554  0.460293   \n",
       "\n",
       "   Sexually.transmitted.infections  Uninsured  Unemployment  Violent.crime  \\\n",
       "0                         0.058300   0.585082      0.265455       0.271977   \n",
       "1                         0.116776   0.645688      0.309091       0.129210   \n",
       "2                         0.090651   1.000000      0.429091       0.129210   \n",
       "3                         0.130144   0.517483      0.174545       0.125592   \n",
       "4                         0.116776   0.347015      0.251052       0.129210   \n",
       "\n",
       "   Injury.deaths  tSentiment  cSentiment  \n",
       "0       0.177474   -0.059051    -0.07589  \n",
       "1       0.177474   -0.059051    -0.07589  \n",
       "2       0.177474   -0.059051    -0.07589  \n",
       "3       0.284610   -0.059051    -0.07589  \n",
       "4       0.177474   -0.059051    -0.07589  \n",
       "\n",
       "[5 rows x 43 columns]"
      ]
     },
     "execution_count": 42,
     "metadata": {},
     "output_type": "execute_result"
    }
   ],
   "source": [
    "import pandas as pd\n",
    "\n",
    "df = pd.read_csv('dataFullClean.csv',sep=',')\n",
    "df.head()"
   ]
  },
  {
   "cell_type": "markdown",
   "metadata": {},
   "source": [
    "## Baseline Model only demog only RFE"
   ]
  },
  {
   "cell_type": "code",
   "execution_count": 43,
   "metadata": {
    "scrolled": false
   },
   "outputs": [
    {
     "data": {
      "text/html": [
       "<div>\n",
       "<style scoped>\n",
       "    .dataframe tbody tr th:only-of-type {\n",
       "        vertical-align: middle;\n",
       "    }\n",
       "\n",
       "    .dataframe tbody tr th {\n",
       "        vertical-align: top;\n",
       "    }\n",
       "\n",
       "    .dataframe thead th {\n",
       "        text-align: right;\n",
       "    }\n",
       "</style>\n",
       "<table border=\"1\" class=\"dataframe\">\n",
       "  <thead>\n",
       "    <tr style=\"text-align: right;\">\n",
       "      <th></th>\n",
       "      <th>At Least Bachelors's Degree</th>\n",
       "      <th>White (Not Latino) Population</th>\n",
       "      <th>African American Population</th>\n",
       "      <th>Asian American Population</th>\n",
       "      <th>Total Population</th>\n",
       "      <th>Production.transportation.and.material.moving.occupations</th>\n",
       "      <th>Children.in.single.parent.households</th>\n",
       "      <th>Adult.obesity</th>\n",
       "      <th>Diabetes</th>\n",
       "      <th>Sexually.transmitted.infections</th>\n",
       "    </tr>\n",
       "  </thead>\n",
       "  <tbody>\n",
       "    <tr>\n",
       "      <th>0</th>\n",
       "      <td>0.436850</td>\n",
       "      <td>0.831954</td>\n",
       "      <td>0.004646</td>\n",
       "      <td>0.005855</td>\n",
       "      <td>0.000243</td>\n",
       "      <td>0.114286</td>\n",
       "      <td>0.249047</td>\n",
       "      <td>0.474138</td>\n",
       "      <td>0.310559</td>\n",
       "      <td>0.058300</td>\n",
       "    </tr>\n",
       "    <tr>\n",
       "      <th>1</th>\n",
       "      <td>0.210996</td>\n",
       "      <td>0.398656</td>\n",
       "      <td>0.001742</td>\n",
       "      <td>0.067916</td>\n",
       "      <td>0.000047</td>\n",
       "      <td>0.106960</td>\n",
       "      <td>0.426938</td>\n",
       "      <td>0.531609</td>\n",
       "      <td>0.329193</td>\n",
       "      <td>0.116776</td>\n",
       "    </tr>\n",
       "    <tr>\n",
       "      <th>2</th>\n",
       "      <td>0.087667</td>\n",
       "      <td>0.095657</td>\n",
       "      <td>0.095819</td>\n",
       "      <td>0.970726</td>\n",
       "      <td>0.000303</td>\n",
       "      <td>1.000000</td>\n",
       "      <td>0.500635</td>\n",
       "      <td>0.551724</td>\n",
       "      <td>0.273292</td>\n",
       "      <td>0.090651</td>\n",
       "    </tr>\n",
       "    <tr>\n",
       "      <th>3</th>\n",
       "      <td>0.378900</td>\n",
       "      <td>0.634436</td>\n",
       "      <td>0.009292</td>\n",
       "      <td>0.083138</td>\n",
       "      <td>0.000894</td>\n",
       "      <td>0.099634</td>\n",
       "      <td>0.402795</td>\n",
       "      <td>0.433908</td>\n",
       "      <td>0.260870</td>\n",
       "      <td>0.130144</td>\n",
       "    </tr>\n",
       "    <tr>\n",
       "      <th>4</th>\n",
       "      <td>0.352155</td>\n",
       "      <td>0.701655</td>\n",
       "      <td>0.002323</td>\n",
       "      <td>0.069087</td>\n",
       "      <td>0.000383</td>\n",
       "      <td>0.171429</td>\n",
       "      <td>0.401399</td>\n",
       "      <td>0.501554</td>\n",
       "      <td>0.460293</td>\n",
       "      <td>0.116776</td>\n",
       "    </tr>\n",
       "  </tbody>\n",
       "</table>\n",
       "</div>"
      ],
      "text/plain": [
       "   At Least Bachelors's Degree  White (Not Latino) Population  \\\n",
       "0                     0.436850                       0.831954   \n",
       "1                     0.210996                       0.398656   \n",
       "2                     0.087667                       0.095657   \n",
       "3                     0.378900                       0.634436   \n",
       "4                     0.352155                       0.701655   \n",
       "\n",
       "   African American Population  Asian American Population  Total Population  \\\n",
       "0                     0.004646                   0.005855          0.000243   \n",
       "1                     0.001742                   0.067916          0.000047   \n",
       "2                     0.095819                   0.970726          0.000303   \n",
       "3                     0.009292                   0.083138          0.000894   \n",
       "4                     0.002323                   0.069087          0.000383   \n",
       "\n",
       "   Production.transportation.and.material.moving.occupations  \\\n",
       "0                                           0.114286           \n",
       "1                                           0.106960           \n",
       "2                                           1.000000           \n",
       "3                                           0.099634           \n",
       "4                                           0.171429           \n",
       "\n",
       "   Children.in.single.parent.households  Adult.obesity  Diabetes  \\\n",
       "0                              0.249047       0.474138  0.310559   \n",
       "1                              0.426938       0.531609  0.329193   \n",
       "2                              0.500635       0.551724  0.273292   \n",
       "3                              0.402795       0.433908  0.260870   \n",
       "4                              0.401399       0.501554  0.460293   \n",
       "\n",
       "   Sexually.transmitted.infections  \n",
       "0                         0.058300  \n",
       "1                         0.116776  \n",
       "2                         0.090651  \n",
       "3                         0.130144  \n",
       "4                         0.116776  "
      ]
     },
     "execution_count": 43,
     "metadata": {},
     "output_type": "execute_result"
    }
   ],
   "source": [
    "# y includes our labels and x includes our features\n",
    "y = df.CountyOutcome                          \n",
    "x_RFE = df[[\"At Least Bachelors's Degree\",'White (Not Latino) Population','African American Population','Asian American Population','Total Population','Production.transportation.and.material.moving.occupations','Children.in.single.parent.households','Adult.obesity','Diabetes','Sexually.transmitted.infections']]\n",
    "x_RFE.head()"
   ]
  },
  {
   "cell_type": "code",
   "execution_count": 44,
   "metadata": {},
   "outputs": [],
   "source": [
    "# split data train 70 % and test 30 %\n",
    "x_train, x_test, y_train, y_test = train_test_split(x_RFE, y, test_size=0.3, random_state=42)"
   ]
  },
  {
   "cell_type": "code",
   "execution_count": 45,
   "metadata": {
    "scrolled": true
   },
   "outputs": [
    {
     "name": "stdout",
     "output_type": "stream",
     "text": [
      "Class=0, n=1875 (59.675%)\n",
      "Class=1, n=1875 (59.675%)\n"
     ]
    },
    {
     "data": {
      "image/png": "[encoded data removed]",
      "text/plain": [
       "<Figure size 432x288 with 1 Axes>"
      ]
     },
     "metadata": {
      "needs_background": "light"
     },
     "output_type": "display_data"
    }
   ],
   "source": [
    "#oversample = RandomOverSampler(sampling_strategy='minority')\n",
    "#oversample = RandomOverSampler(sampling_strategy=0.5)\n",
    "oversample = SMOTE(random_state=42)\n",
    "X_train, Y_train = oversample.fit_resample(x_train, y_train)\n",
    "counter = Counter(Y_train)\n",
    "for k,v in counter.items():\n",
    "\tper = v / len(y) * 100\n",
    "\tprint('Class=%s, n=%d (%.3f%%)' % (k, v, per))\n",
    "# plot the distribution\n",
    "plt.bar(counter.keys(), counter.values(), color=['red', 'blue'])\n",
    "plt.title(\"SMOTE sampling results\")\n",
    "plt.show()"
   ]
  },
  {
   "cell_type": "code",
   "execution_count": 46,
   "metadata": {},
   "outputs": [
    {
     "name": "stdout",
     "output_type": "stream",
     "text": [
      "Accuracy is:  0.9289501590668081\n"
     ]
    },
    {
     "data": {
      "text/plain": [
       "Text(0.5, 15.0, 'Predicted')"
      ]
     },
     "execution_count": 46,
     "metadata": {},
     "output_type": "execute_result"
    },
    {
     "data": {
      "image/png": "[encoded data removed]",
      "text/plain": [
       "<Figure size 432x288 with 2 Axes>"
      ]
     },
     "metadata": {
      "needs_background": "light"
     },
     "output_type": "display_data"
    }
   ],
   "source": [
    "#random forest classifier with n_estimators=10 (default)\n",
    "clf_rf = RandomForestClassifier(random_state=43)      \n",
    "clr_rf_OS = clf_rf.fit(X_train,Y_train)\n",
    "\n",
    "# Results - ROC Curve\n",
    "y_test_pred_probs_OS = clr_rf_OS.predict(x_test)\n",
    "ac = accuracy_score(y_test, y_test_pred_probs_OS)\n",
    "print('Accuracy is: ',ac)\n",
    "cm = confusion_matrix(y_test, y_test_pred_probs_OS)\n",
    "sns.heatmap(cm,annot=True,fmt=\"d\")\n",
    "plt.ylabel('Actual')\n",
    "plt.xlabel('Predicted')"
   ]
  },
  {
   "cell_type": "code",
   "execution_count": 47,
   "metadata": {},
   "outputs": [
    {
     "name": "stdout",
     "output_type": "stream",
     "text": [
      "              precision    recall  f1-score   support\n",
      "\n",
      "           0    0.77143   0.83333   0.80119       162\n",
      "           1    0.96484   0.94878   0.95675       781\n",
      "\n",
      "    accuracy                        0.92895       943\n",
      "   macro avg    0.86814   0.89106   0.87897       943\n",
      "weighted avg    0.93162   0.92895   0.93002       943\n",
      "\n",
      "roc_auc score: 0.9670926795339941\n",
      "f1 score: [0.80118694 0.95674629]\n"
     ]
    }
   ],
   "source": [
    "print(classification_report(y_test, y_test_pred_probs_OS, digits=5))\n",
    "\n",
    "print(\"roc_auc score: \" + str(roc_auc_score(y_test, clr_rf_OS.predict_proba(x_test)[:,1])))\n",
    "print(\"f1 score: \" + str(f1_score(y_test, y_test_pred_probs_OS, average=None)))"
   ]
  },
  {
   "cell_type": "markdown",
   "metadata": {},
   "source": [
    "## Randomized Search Cross Validation demog only RFE"
   ]
  },
  {
   "cell_type": "code",
   "execution_count": 56,
   "metadata": {},
   "outputs": [
    {
     "name": "stdout",
     "output_type": "stream",
     "text": [
      "{'max_depth': [10, 20, 30, 40, 50, 60, 70, 80, 90, 100, 110, None],\n",
      " 'max_features': [3, 5, 10],\n",
      " 'min_samples_leaf': [1, 2, 4],\n",
      " 'min_samples_split': [3, 5, 10],\n",
      " 'n_estimators': [200, 400, 600, 800, 1000, 1200, 1400, 1600]}\n"
     ]
    }
   ],
   "source": [
    "from sklearn.model_selection import RandomizedSearchCV\n",
    "# Number of trees in random forest\n",
    "n_estimators = [int(x) for x in np.linspace(start = 200, stop = 1600, num = 8)]\n",
    "# Number of features to consider at every split\n",
    "max_features = [3, 5, 10] #['auto', 'sqrt']\n",
    "# Maximum number of levels in tree\n",
    "max_depth = [int(x) for x in np.linspace(10, 110, num = 11)]\n",
    "max_depth.append(None)\n",
    "# Minimum number of samples required to split a node\n",
    "min_samples_split = [3, 5, 10]\n",
    "# Minimum number of samples required at each leaf node\n",
    "min_samples_leaf = [1, 2, 4]\n",
    "# Create the random grid\n",
    "random_grid = {'n_estimators': n_estimators,\n",
    "               'max_features': max_features,\n",
    "               'max_depth': max_depth,\n",
    "               'min_samples_split': min_samples_split,\n",
    "               'min_samples_leaf': min_samples_leaf}\n",
    "pprint(random_grid)"
   ]
  },
  {
   "cell_type": "code",
   "execution_count": 57,
   "metadata": {},
   "outputs": [
    {
     "name": "stdout",
     "output_type": "stream",
     "text": [
      "Fitting 3 folds for each of 100 candidates, totalling 300 fits\n"
     ]
    },
    {
     "name": "stderr",
     "output_type": "stream",
     "text": [
      "[Parallel(n_jobs=-1)]: Using backend LokyBackend with 4 concurrent workers.\n",
      "[Parallel(n_jobs=-1)]: Done  33 tasks      | elapsed:  1.9min\n",
      "[Parallel(n_jobs=-1)]: Done 154 tasks      | elapsed:  9.5min\n",
      "[Parallel(n_jobs=-1)]: Done 300 out of 300 | elapsed: 18.1min finished\n"
     ]
    },
    {
     "data": {
      "text/plain": [
       "RandomizedSearchCV(cv=3, estimator=RandomForestClassifier(), n_iter=100,\n",
       "                   n_jobs=-1,\n",
       "                   param_distributions={'max_depth': [10, 20, 30, 40, 50, 60,\n",
       "                                                      70, 80, 90, 100, 110,\n",
       "                                                      None],\n",
       "                                        'max_features': [3, 5, 10],\n",
       "                                        'min_samples_leaf': [1, 2, 4],\n",
       "                                        'min_samples_split': [3, 5, 10],\n",
       "                                        'n_estimators': [200, 400, 600, 800,\n",
       "                                                         1000, 1200, 1400,\n",
       "                                                         1600]},\n",
       "                   random_state=42, scoring='balanced_accuracy', verbose=2)"
      ]
     },
     "execution_count": 57,
     "metadata": {},
     "output_type": "execute_result"
    }
   ],
   "source": [
    "# Use the random grid to search for best hyperparameters\n",
    "# First create the base model to tune\n",
    "rf = RandomForestClassifier()\n",
    "# Random search of parameters, using 3 fold cross validation, \n",
    "# search across 100 different combinations, and use all available cores\n",
    "rf_random = RandomizedSearchCV(estimator = rf, param_distributions = random_grid, n_iter = 100, cv = 3, verbose=2, random_state=42, n_jobs = -1, scoring=\"balanced_accuracy\")\n",
    "# Fit the random search model\n",
    "rf_random.fit(X_train, Y_train)"
   ]
  },
  {
   "cell_type": "code",
   "execution_count": 59,
   "metadata": {
    "scrolled": false
   },
   "outputs": [
    {
     "data": {
      "text/plain": [
       "{'n_estimators': 1000,\n",
       " 'min_samples_split': 3,\n",
       " 'min_samples_leaf': 1,\n",
       " 'max_features': 3,\n",
       " 'max_depth': 100}"
      ]
     },
     "execution_count": 59,
     "metadata": {},
     "output_type": "execute_result"
    }
   ],
   "source": [
    "rf_random.best_params_"
   ]
  },
  {
   "cell_type": "code",
   "execution_count": 60,
   "metadata": {},
   "outputs": [
    {
     "name": "stdout",
     "output_type": "stream",
     "text": [
      "Accuracy is:  0.9300106044538706\n"
     ]
    },
    {
     "data": {
      "text/plain": [
       "<matplotlib.axes._subplots.AxesSubplot at 0x20c8e3263d0>"
      ]
     },
     "execution_count": 60,
     "metadata": {},
     "output_type": "execute_result"
    },
    {
     "data": {
      "image/png": "[encoded data removed]",
      "text/plain": [
       "<Figure size 432x288 with 2 Axes>"
      ]
     },
     "metadata": {
      "needs_background": "light"
     },
     "output_type": "display_data"
    }
   ],
   "source": [
    "best_random = rf_random.best_estimator_\n",
    "\n",
    "random_accuracy = accuracy_score(y_test, best_random.predict(x_test))\n",
    "print('Accuracy is: ', random_accuracy)\n",
    "cm = confusion_matrix(y_test, best_random.predict(x_test))\n",
    "sns.heatmap(cm, annot=True, fmt=\"d\")"
   ]
  },
  {
   "cell_type": "markdown",
   "metadata": {},
   "source": [
    "## Grid Search with Cross Validation demog only RFE"
   ]
  },
  {
   "cell_type": "code",
   "execution_count": 61,
   "metadata": {},
   "outputs": [],
   "source": [
    "from sklearn.model_selection import GridSearchCV\n",
    "# Create the parameter grid based on the results of random search \n",
    "param_grid = {\n",
    "    'max_depth': [100, 110, 120],\n",
    "    'max_features': [3, 5], #['auto', 'sqrt']\n",
    "    'min_samples_leaf': [1, 3],\n",
    "    'min_samples_split': [3, 5, 10],\n",
    "    'n_estimators': [200, 600, 1000]\n",
    "}\n",
    "# Create a based model\n",
    "rf = RandomForestClassifier()\n",
    "# Instantiate the grid search model\n",
    "grid_search = GridSearchCV(estimator = rf, param_grid = param_grid, \n",
    "                          cv = 3, n_jobs = -1, verbose = 2, scoring=\"balanced_accuracy\")"
   ]
  },
  {
   "cell_type": "code",
   "execution_count": 62,
   "metadata": {},
   "outputs": [
    {
     "name": "stdout",
     "output_type": "stream",
     "text": [
      "Fitting 3 folds for each of 108 candidates, totalling 324 fits\n"
     ]
    },
    {
     "name": "stderr",
     "output_type": "stream",
     "text": [
      "[Parallel(n_jobs=-1)]: Using backend LokyBackend with 4 concurrent workers.\n",
      "[Parallel(n_jobs=-1)]: Done  33 tasks      | elapsed:   52.3s\n",
      "[Parallel(n_jobs=-1)]: Done 154 tasks      | elapsed:  4.5min\n",
      "[Parallel(n_jobs=-1)]: Done 324 out of 324 | elapsed: 10.0min finished\n"
     ]
    },
    {
     "data": {
      "text/plain": [
       "{'max_depth': 120,\n",
       " 'max_features': 3,\n",
       " 'min_samples_leaf': 1,\n",
       " 'min_samples_split': 3,\n",
       " 'n_estimators': 1000}"
      ]
     },
     "execution_count": 62,
     "metadata": {},
     "output_type": "execute_result"
    }
   ],
   "source": [
    "# Fit the grid search to the data\n",
    "grid_search.fit(X_train, Y_train)\n",
    "grid_search.best_params_"
   ]
  },
  {
   "cell_type": "code",
   "execution_count": 63,
   "metadata": {},
   "outputs": [
    {
     "name": "stdout",
     "output_type": "stream",
     "text": [
      "Accuracy is:  0.9310710498409331\n"
     ]
    },
    {
     "data": {
      "text/plain": [
       "<matplotlib.axes._subplots.AxesSubplot at 0x20c8aef4430>"
      ]
     },
     "execution_count": 63,
     "metadata": {},
     "output_type": "execute_result"
    },
    {
     "data": {
      "image/png": "[encoded data removed]",
      "text/plain": [
       "<Figure size 432x288 with 2 Axes>"
      ]
     },
     "metadata": {
      "needs_background": "light"
     },
     "output_type": "display_data"
    }
   ],
   "source": [
    "best_grid = grid_search.best_estimator_\n",
    "\n",
    "grid_accuracy = accuracy_score(y_test, best_grid.predict(x_test))\n",
    "print('Accuracy is: ', grid_accuracy)\n",
    "cm = confusion_matrix(y_test, best_grid.predict(x_test))\n",
    "sns.heatmap(cm, annot=True, fmt=\"d\")"
   ]
  },
  {
   "cell_type": "code",
   "execution_count": 64,
   "metadata": {},
   "outputs": [
    {
     "name": "stdout",
     "output_type": "stream",
     "text": [
      "              precision    recall  f1-score   support\n",
      "\n",
      "           0    0.78363   0.82716   0.80480       162\n",
      "           1    0.96373   0.95262   0.95815       781\n",
      "\n",
      "    accuracy                        0.93107       943\n",
      "   macro avg    0.87368   0.88989   0.88148       943\n",
      "weighted avg    0.93279   0.93107   0.93180       943\n",
      "\n",
      "roc_auc score: 0.9667488658098987\n",
      "f1 score: [0.8048048  0.95814552]\n"
     ]
    }
   ],
   "source": [
    "from sklearn.metrics import classification_report\n",
    "y_test_pred_probs = best_grid.predict(x_test)\n",
    "print(classification_report(y_test, y_test_pred_probs, digits=5))\n",
    "\n",
    "print(\"roc_auc score: \" + str(roc_auc_score(y_test, best_grid.predict_proba(x_test)[:,1])))\n",
    "print(\"f1 score: \" + str(f1_score(y_test, y_test_pred_probs, average=None)))"
   ]
  },
  {
   "cell_type": "markdown",
   "metadata": {},
   "source": [
    "## With Sentiment and RFE"
   ]
  },
  {
   "cell_type": "markdown",
   "metadata": {},
   "source": [
    "## Baseline Model with Sentiment RFE"
   ]
  },
  {
   "cell_type": "code",
   "execution_count": 65,
   "metadata": {
    "scrolled": true
   },
   "outputs": [
    {
     "data": {
      "text/html": [
       "<div>\n",
       "<style scoped>\n",
       "    .dataframe tbody tr th:only-of-type {\n",
       "        vertical-align: middle;\n",
       "    }\n",
       "\n",
       "    .dataframe tbody tr th {\n",
       "        vertical-align: top;\n",
       "    }\n",
       "\n",
       "    .dataframe thead th {\n",
       "        text-align: right;\n",
       "    }\n",
       "</style>\n",
       "<table border=\"1\" class=\"dataframe\">\n",
       "  <thead>\n",
       "    <tr style=\"text-align: right;\">\n",
       "      <th></th>\n",
       "      <th>At Least Bachelors's Degree</th>\n",
       "      <th>White (Not Latino) Population</th>\n",
       "      <th>African American Population</th>\n",
       "      <th>Asian American Population</th>\n",
       "      <th>Total Population</th>\n",
       "      <th>Production.transportation.and.material.moving.occupations</th>\n",
       "      <th>Children.in.single.parent.households</th>\n",
       "      <th>Adult.obesity</th>\n",
       "      <th>Diabetes</th>\n",
       "      <th>Sexually.transmitted.infections</th>\n",
       "      <th>tSentiment</th>\n",
       "      <th>cSentiment</th>\n",
       "    </tr>\n",
       "  </thead>\n",
       "  <tbody>\n",
       "    <tr>\n",
       "      <th>0</th>\n",
       "      <td>0.436850</td>\n",
       "      <td>0.831954</td>\n",
       "      <td>0.004646</td>\n",
       "      <td>0.005855</td>\n",
       "      <td>0.000243</td>\n",
       "      <td>0.114286</td>\n",
       "      <td>0.249047</td>\n",
       "      <td>0.474138</td>\n",
       "      <td>0.310559</td>\n",
       "      <td>0.058300</td>\n",
       "      <td>-0.059051</td>\n",
       "      <td>-0.07589</td>\n",
       "    </tr>\n",
       "    <tr>\n",
       "      <th>1</th>\n",
       "      <td>0.210996</td>\n",
       "      <td>0.398656</td>\n",
       "      <td>0.001742</td>\n",
       "      <td>0.067916</td>\n",
       "      <td>0.000047</td>\n",
       "      <td>0.106960</td>\n",
       "      <td>0.426938</td>\n",
       "      <td>0.531609</td>\n",
       "      <td>0.329193</td>\n",
       "      <td>0.116776</td>\n",
       "      <td>-0.059051</td>\n",
       "      <td>-0.07589</td>\n",
       "    </tr>\n",
       "    <tr>\n",
       "      <th>2</th>\n",
       "      <td>0.087667</td>\n",
       "      <td>0.095657</td>\n",
       "      <td>0.095819</td>\n",
       "      <td>0.970726</td>\n",
       "      <td>0.000303</td>\n",
       "      <td>1.000000</td>\n",
       "      <td>0.500635</td>\n",
       "      <td>0.551724</td>\n",
       "      <td>0.273292</td>\n",
       "      <td>0.090651</td>\n",
       "      <td>-0.059051</td>\n",
       "      <td>-0.07589</td>\n",
       "    </tr>\n",
       "    <tr>\n",
       "      <th>3</th>\n",
       "      <td>0.378900</td>\n",
       "      <td>0.634436</td>\n",
       "      <td>0.009292</td>\n",
       "      <td>0.083138</td>\n",
       "      <td>0.000894</td>\n",
       "      <td>0.099634</td>\n",
       "      <td>0.402795</td>\n",
       "      <td>0.433908</td>\n",
       "      <td>0.260870</td>\n",
       "      <td>0.130144</td>\n",
       "      <td>-0.059051</td>\n",
       "      <td>-0.07589</td>\n",
       "    </tr>\n",
       "    <tr>\n",
       "      <th>4</th>\n",
       "      <td>0.352155</td>\n",
       "      <td>0.701655</td>\n",
       "      <td>0.002323</td>\n",
       "      <td>0.069087</td>\n",
       "      <td>0.000383</td>\n",
       "      <td>0.171429</td>\n",
       "      <td>0.401399</td>\n",
       "      <td>0.501554</td>\n",
       "      <td>0.460293</td>\n",
       "      <td>0.116776</td>\n",
       "      <td>-0.059051</td>\n",
       "      <td>-0.07589</td>\n",
       "    </tr>\n",
       "  </tbody>\n",
       "</table>\n",
       "</div>"
      ],
      "text/plain": [
       "   At Least Bachelors's Degree  White (Not Latino) Population  \\\n",
       "0                     0.436850                       0.831954   \n",
       "1                     0.210996                       0.398656   \n",
       "2                     0.087667                       0.095657   \n",
       "3                     0.378900                       0.634436   \n",
       "4                     0.352155                       0.701655   \n",
       "\n",
       "   African American Population  Asian American Population  Total Population  \\\n",
       "0                     0.004646                   0.005855          0.000243   \n",
       "1                     0.001742                   0.067916          0.000047   \n",
       "2                     0.095819                   0.970726          0.000303   \n",
       "3                     0.009292                   0.083138          0.000894   \n",
       "4                     0.002323                   0.069087          0.000383   \n",
       "\n",
       "   Production.transportation.and.material.moving.occupations  \\\n",
       "0                                           0.114286           \n",
       "1                                           0.106960           \n",
       "2                                           1.000000           \n",
       "3                                           0.099634           \n",
       "4                                           0.171429           \n",
       "\n",
       "   Children.in.single.parent.households  Adult.obesity  Diabetes  \\\n",
       "0                              0.249047       0.474138  0.310559   \n",
       "1                              0.426938       0.531609  0.329193   \n",
       "2                              0.500635       0.551724  0.273292   \n",
       "3                              0.402795       0.433908  0.260870   \n",
       "4                              0.401399       0.501554  0.460293   \n",
       "\n",
       "   Sexually.transmitted.infections  tSentiment  cSentiment  \n",
       "0                         0.058300   -0.059051    -0.07589  \n",
       "1                         0.116776   -0.059051    -0.07589  \n",
       "2                         0.090651   -0.059051    -0.07589  \n",
       "3                         0.130144   -0.059051    -0.07589  \n",
       "4                         0.116776   -0.059051    -0.07589  "
      ]
     },
     "execution_count": 65,
     "metadata": {},
     "output_type": "execute_result"
    }
   ],
   "source": [
    "# y includes our labels and x includes our features\n",
    "y = df.CountyOutcome                          \n",
    "x_RFE = df[[\"At Least Bachelors's Degree\",'White (Not Latino) Population','African American Population','Asian American Population','Total Population','Production.transportation.and.material.moving.occupations','Children.in.single.parent.households','Adult.obesity','Diabetes','Sexually.transmitted.infections','tSentiment','cSentiment']]\n",
    "x_RFE.head()"
   ]
  },
  {
   "cell_type": "code",
   "execution_count": 66,
   "metadata": {},
   "outputs": [],
   "source": [
    "# split data train 70 % and test 30 %\n",
    "x_train, x_test, y_train, y_test = train_test_split(x_RFE, y, test_size=0.3, random_state=42)"
   ]
  },
  {
   "cell_type": "code",
   "execution_count": 67,
   "metadata": {
    "scrolled": true
   },
   "outputs": [
    {
     "name": "stdout",
     "output_type": "stream",
     "text": [
      "Class=0, n=1875 (59.675%)\n",
      "Class=1, n=1875 (59.675%)\n"
     ]
    },
    {
     "data": {
      "image/png": "[encoded data removed]",
      "text/plain": [
       "<Figure size 432x288 with 1 Axes>"
      ]
     },
     "metadata": {
      "needs_background": "light"
     },
     "output_type": "display_data"
    }
   ],
   "source": [
    "#oversample = RandomOverSampler(sampling_strategy='minority')\n",
    "#oversample = RandomOverSampler(sampling_strategy=0.5)\n",
    "oversample = SMOTE(random_state=42)\n",
    "X_train, Y_train = oversample.fit_resample(x_train, y_train)\n",
    "counter = Counter(Y_train)\n",
    "for k,v in counter.items():\n",
    "\tper = v / len(y) * 100\n",
    "\tprint('Class=%s, n=%d (%.3f%%)' % (k, v, per))\n",
    "# plot the distribution\n",
    "plt.bar(counter.keys(), counter.values(), color=['red', 'blue'])\n",
    "plt.title(\"SMOTE sampling results\")\n",
    "plt.show()"
   ]
  },
  {
   "cell_type": "code",
   "execution_count": 68,
   "metadata": {},
   "outputs": [
    {
     "name": "stdout",
     "output_type": "stream",
     "text": [
      "Accuracy is:  0.9278897136797455\n"
     ]
    },
    {
     "data": {
      "text/plain": [
       "Text(0.5, 15.0, 'Predicted')"
      ]
     },
     "execution_count": 68,
     "metadata": {},
     "output_type": "execute_result"
    },
    {
     "data": {
      "image/png": "[encoded data removed]",
      "text/plain": [
       "<Figure size 432x288 with 2 Axes>"
      ]
     },
     "metadata": {
      "needs_background": "light"
     },
     "output_type": "display_data"
    }
   ],
   "source": [
    "#random forest classifier with n_estimators=10 (default)\n",
    "clf_rf = RandomForestClassifier(random_state=43)      \n",
    "clr_rf_OS = clf_rf.fit(X_train,Y_train)\n",
    "\n",
    "# Results - ROC Curve\n",
    "y_test_pred_probs_OS = clr_rf_OS.predict(x_test)\n",
    "ac = accuracy_score(y_test, y_test_pred_probs_OS)\n",
    "print('Accuracy is: ',ac)\n",
    "cm = confusion_matrix(y_test, y_test_pred_probs_OS)\n",
    "sns.heatmap(cm,annot=True,fmt=\"d\")\n",
    "plt.ylabel('Actual')\n",
    "plt.xlabel('Predicted')"
   ]
  },
  {
   "cell_type": "markdown",
   "metadata": {},
   "source": [
    "## Randomized Search Cross Validation with sentiment RFE"
   ]
  },
  {
   "cell_type": "code",
   "execution_count": 69,
   "metadata": {},
   "outputs": [
    {
     "name": "stdout",
     "output_type": "stream",
     "text": [
      "{'max_depth': [10, 20, 30, 40, 50, 60, 70, 80, 90, 100, 110, None],\n",
      " 'max_features': [3, 5, 10],\n",
      " 'min_samples_leaf': [1, 2, 4],\n",
      " 'min_samples_split': [3, 5, 10],\n",
      " 'n_estimators': [200, 400, 600, 800, 1000, 1200, 1400, 1600]}\n"
     ]
    }
   ],
   "source": [
    "# Number of trees in random forest\n",
    "n_estimators = [int(x) for x in np.linspace(start = 200, stop = 1600, num = 8)]\n",
    "# Number of features to consider at every split\n",
    "max_features = [3, 5, 10] #['auto', 'sqrt']\n",
    "# Maximum number of levels in tree\n",
    "max_depth = [int(x) for x in np.linspace(10, 110, num = 11)]\n",
    "max_depth.append(None)\n",
    "# Minimum number of samples required to split a node\n",
    "min_samples_split = [3, 5, 10]\n",
    "# Minimum number of samples required at each leaf node\n",
    "min_samples_leaf = [1, 2, 4]\n",
    "# Create the random grid\n",
    "random_grid = {'n_estimators': n_estimators,\n",
    "               'max_features': max_features,\n",
    "               'max_depth': max_depth,\n",
    "               'min_samples_split': min_samples_split,\n",
    "               'min_samples_leaf': min_samples_leaf}\n",
    "pprint(random_grid)"
   ]
  },
  {
   "cell_type": "code",
   "execution_count": 70,
   "metadata": {},
   "outputs": [
    {
     "name": "stdout",
     "output_type": "stream",
     "text": [
      "Fitting 3 folds for each of 100 candidates, totalling 300 fits\n"
     ]
    },
    {
     "name": "stderr",
     "output_type": "stream",
     "text": [
      "[Parallel(n_jobs=-1)]: Using backend LokyBackend with 4 concurrent workers.\n",
      "[Parallel(n_jobs=-1)]: Done  33 tasks      | elapsed:  2.3min\n",
      "[Parallel(n_jobs=-1)]: Done 154 tasks      | elapsed:  9.6min\n",
      "[Parallel(n_jobs=-1)]: Done 300 out of 300 | elapsed: 16.5min finished\n"
     ]
    },
    {
     "data": {
      "text/plain": [
       "RandomizedSearchCV(cv=3, estimator=RandomForestClassifier(), n_iter=100,\n",
       "                   n_jobs=-1,\n",
       "                   param_distributions={'max_depth': [10, 20, 30, 40, 50, 60,\n",
       "                                                      70, 80, 90, 100, 110,\n",
       "                                                      None],\n",
       "                                        'max_features': [3, 5, 10],\n",
       "                                        'min_samples_leaf': [1, 2, 4],\n",
       "                                        'min_samples_split': [3, 5, 10],\n",
       "                                        'n_estimators': [200, 400, 600, 800,\n",
       "                                                         1000, 1200, 1400,\n",
       "                                                         1600]},\n",
       "                   random_state=42, scoring='balanced_accuracy', verbose=2)"
      ]
     },
     "execution_count": 70,
     "metadata": {},
     "output_type": "execute_result"
    }
   ],
   "source": [
    "# Use the random grid to search for best hyperparameters\n",
    "# First create the base model to tune\n",
    "rf = RandomForestClassifier()\n",
    "# Random search of parameters, using 3 fold cross validation, \n",
    "# search across 100 different combinations, and use all available cores\n",
    "rf_random = RandomizedSearchCV(estimator = rf, param_distributions = random_grid, n_iter = 100, cv = 3, verbose=2, random_state=42, n_jobs = -1, scoring=\"balanced_accuracy\")\n",
    "# Fit the random search model\n",
    "rf_random.fit(X_train, Y_train)"
   ]
  },
  {
   "cell_type": "code",
   "execution_count": 71,
   "metadata": {
    "scrolled": false
   },
   "outputs": [
    {
     "data": {
      "text/plain": [
       "{'n_estimators': 200,\n",
       " 'min_samples_split': 3,\n",
       " 'min_samples_leaf': 1,\n",
       " 'max_features': 3,\n",
       " 'max_depth': 30}"
      ]
     },
     "execution_count": 71,
     "metadata": {},
     "output_type": "execute_result"
    }
   ],
   "source": [
    "rf_random.best_params_"
   ]
  },
  {
   "cell_type": "code",
   "execution_count": 72,
   "metadata": {},
   "outputs": [
    {
     "name": "stdout",
     "output_type": "stream",
     "text": [
      "Accuracy is:  0.9236479321314952\n"
     ]
    },
    {
     "data": {
      "text/plain": [
       "<matplotlib.axes._subplots.AxesSubplot at 0x20c915608b0>"
      ]
     },
     "execution_count": 72,
     "metadata": {},
     "output_type": "execute_result"
    },
    {
     "data": {
      "image/png": "[encoded data removed]",
      "text/plain": [
       "<Figure size 432x288 with 2 Axes>"
      ]
     },
     "metadata": {
      "needs_background": "light"
     },
     "output_type": "display_data"
    }
   ],
   "source": [
    "best_random = rf_random.best_estimator_\n",
    "\n",
    "random_accuracy = accuracy_score(y_test, best_random.predict(x_test))\n",
    "print('Accuracy is: ', random_accuracy)\n",
    "cm = confusion_matrix(y_test, best_random.predict(x_test))\n",
    "sns.heatmap(cm, annot=True, fmt=\"d\")"
   ]
  },
  {
   "cell_type": "markdown",
   "metadata": {},
   "source": [
    "## Grid Search with Cross Validation with sentiment RFE"
   ]
  },
  {
   "cell_type": "code",
   "execution_count": 73,
   "metadata": {},
   "outputs": [],
   "source": [
    "# Create the parameter grid based on the results of random search \n",
    "param_grid = {\n",
    "    'max_depth': [30, 50, 100],\n",
    "    'max_features': [3, 5], #['auto', 'sqrt']\n",
    "    'min_samples_leaf': [1, 3],\n",
    "    'min_samples_split': [3, 5, 10],\n",
    "    'n_estimators': [200, 400, 1000]\n",
    "}\n",
    "# Create a based model\n",
    "rf = RandomForestClassifier()\n",
    "# Instantiate the grid search model\n",
    "grid_search = GridSearchCV(estimator = rf, param_grid = param_grid, \n",
    "                          cv = 3, n_jobs = -1, verbose = 2, scoring=\"balanced_accuracy\")"
   ]
  },
  {
   "cell_type": "code",
   "execution_count": 74,
   "metadata": {
    "scrolled": true
   },
   "outputs": [
    {
     "name": "stdout",
     "output_type": "stream",
     "text": [
      "Fitting 3 folds for each of 108 candidates, totalling 324 fits\n"
     ]
    },
    {
     "name": "stderr",
     "output_type": "stream",
     "text": [
      "[Parallel(n_jobs=-1)]: Using backend LokyBackend with 4 concurrent workers.\n",
      "[Parallel(n_jobs=-1)]: Done  33 tasks      | elapsed:   35.3s\n",
      "[Parallel(n_jobs=-1)]: Done 154 tasks      | elapsed:  3.0min\n",
      "[Parallel(n_jobs=-1)]: Done 324 out of 324 | elapsed:  6.7min finished\n"
     ]
    },
    {
     "data": {
      "text/plain": [
       "{'max_depth': 30,\n",
       " 'max_features': 3,\n",
       " 'min_samples_leaf': 1,\n",
       " 'min_samples_split': 3,\n",
       " 'n_estimators': 400}"
      ]
     },
     "execution_count": 74,
     "metadata": {},
     "output_type": "execute_result"
    }
   ],
   "source": [
    "# Fit the grid search to the data\n",
    "grid_search.fit(X_train, Y_train)\n",
    "grid_search.best_params_"
   ]
  },
  {
   "cell_type": "code",
   "execution_count": 75,
   "metadata": {},
   "outputs": [
    {
     "name": "stdout",
     "output_type": "stream",
     "text": [
      "Accuracy is:  0.9342523860021209\n"
     ]
    },
    {
     "data": {
      "text/plain": [
       "<matplotlib.axes._subplots.AxesSubplot at 0x20c8d2452e0>"
      ]
     },
     "execution_count": 75,
     "metadata": {},
     "output_type": "execute_result"
    },
    {
     "data": {
      "image/png": "[encoded data removed]",
      "text/plain": [
       "<Figure size 432x288 with 2 Axes>"
      ]
     },
     "metadata": {
      "needs_background": "light"
     },
     "output_type": "display_data"
    }
   ],
   "source": [
    "best_grid = grid_search.best_estimator_\n",
    "\n",
    "grid_accuracy = accuracy_score(y_test, best_grid.predict(x_test))\n",
    "print('Accuracy is: ', grid_accuracy)\n",
    "cm = confusion_matrix(y_test, best_grid.predict(x_test))\n",
    "sns.heatmap(cm, annot=True, fmt=\"d\")"
   ]
  },
  {
   "cell_type": "code",
   "execution_count": 76,
   "metadata": {
    "scrolled": false
   },
   "outputs": [
    {
     "name": "stdout",
     "output_type": "stream",
     "text": [
      "              precision    recall  f1-score   support\n",
      "\n",
      "           0    0.78736   0.84568   0.81548       162\n",
      "           1    0.96749   0.95262   0.96000       781\n",
      "\n",
      "    accuracy                        0.93425       943\n",
      "   macro avg    0.87742   0.89915   0.88774       943\n",
      "weighted avg    0.93654   0.93425   0.93517       943\n",
      "\n",
      "roc_auc score: 0.9683770411469941\n",
      "f1 score: [0.81547619 0.96      ]\n"
     ]
    }
   ],
   "source": [
    "from sklearn.metrics import classification_report\n",
    "y_test_pred_probs = best_grid.predict(x_test)\n",
    "print(classification_report(y_test, y_test_pred_probs, digits=5))\n",
    "\n",
    "print(\"roc_auc score: \" + str(roc_auc_score(y_test, best_grid.predict_proba(x_test)[:,1])))\n",
    "print(\"f1 score: \" + str(f1_score(y_test, y_test_pred_probs, average=None)))"
   ]
  }
 ],
 "metadata": {
  "kernelspec": {
   "display_name": "Python 3",
   "language": "python",
   "name": "python3"
  },
  "language_info": {
   "codemirror_mode": {
    "name": "ipython",
    "version": 3
   },
   "file_extension": ".py",
   "mimetype": "text/x-python",
   "name": "python",
   "nbconvert_exporter": "python",
   "pygments_lexer": "ipython3",
   "version": "3.8.2"
  }
 },
 "nbformat": 4,
 "nbformat_minor": 4
}
